{
  "metadata": {
    "kernelspec": {
      "language": "python",
      "display_name": "Python 3",
      "name": "python3"
    },
    "language_info": {
      "pygments_lexer": "ipython3",
      "nbconvert_exporter": "python",
      "version": "3.6.4",
      "file_extension": ".py",
      "codemirror_mode": {
        "name": "ipython",
        "version": 3
      },
      "name": "python",
      "mimetype": "text/x-python"
    },
    "kaggle": {
      "accelerator": "none",
      "dataSources": [
        {
          "sourceId": 35332,
          "databundleVersionId": 3723648,
          "sourceType": "competition"
        },
        {
          "sourceId": 3703374,
          "sourceType": "datasetVersion",
          "datasetId": 2215340
        }
      ],
      "dockerImageVersionId": 30197,
      "isInternetEnabled": true,
      "language": "python",
      "sourceType": "notebook",
      "isGpuEnabled": false
    },
    "colab": {
      "provenance": [],
      "include_colab_link": true
    }
  },
  "nbformat_minor": 0,
  "nbformat": 4,
  "cells": [
    {
      "cell_type": "markdown",
      "metadata": {
        "id": "view-in-github",
        "colab_type": "text"
      },
      "source": [
        "<a href=\"https://colab.research.google.com/github/Zypperman/DBTT_G1_GRP3/blob/prelim_EDA/Usecase_2_1_(EcStateFactored).ipynb\" target=\"_parent\"><img src=\"https://colab.research.google.com/assets/colab-badge.svg\" alt=\"Open In Colab\"/></a>"
      ]
    },
    {
      "cell_type": "markdown",
      "source": [
        "# Use Case 2.1: CWP with Time-series economic data\n",
        "(For capacity building)\n",
        "\n",
        "# As mentioned in the readme for the github repo, please note that the content for this notebook was largely adapted from the [AMEX Credit Score Model established by Kaggle user Gopi Durgaprasad](https://www.kaggle.com/code/gopidurgaprasad/amex-credit-score-model). As it largely replicates the expected utility for Use case 2.0, we will not implement it but extend its functionality here, as we add to its calculations.\n",
        "\n",
        "## Problem statement\n",
        "\n",
        "- A Creditworthiness score is how officers are able to tell, with respect to an applicant's history, whether\n",
        "\n",
        "# **<span style=\"color:#F7B2B0;\">Data</span>**\n",
        "\n",
        "The objective of this competition is to predict the probability that a customer does not pay back their credit card balance amount in the future based on their monthly customer profile. The target binary variable is calculated by observing 18 months performance window after the latest credit card statement, and if the customer does not pay due amount in 120 days after their latest statement date it is considered a default event.\n",
        "\n",
        "The dataset contains aggregated profile features for each customer at each statement date. Features are anonymized and normalized, and fall into the following general categories:\n",
        "\n",
        "- D_* = Delinquency variables\n",
        "- S_* = Spend variables\n",
        "- P_* = Payment variables\n",
        "- B_* = Balance variables\n",
        "- R_* = Risk variables\n",
        "\n",
        "with the following features being categorical:\n",
        "\n",
        "`['B_30', 'B_38', 'D_114', 'D_116', 'D_117', 'D_120', 'D_126', 'D_63', 'D_64', 'D_66', 'D_68']`\n",
        "\n",
        "Your task is to predict, for each customer_ID, the probability of a future payment default (target = 1).\n",
        "\n",
        "Note that the negative class has been subsampled for this dataset at 5%, and thus receives a 20x weighting in the scoring metric\n",
        "\n",
        "- `train_data.csv` - training data with multiple statement dates per customer_ID\n",
        "- `train_labels.csv` - target label for each customer_ID\n",
        "- `test_data.csv` - corresponding test data; your objective is to predict the target label for each customer_ID\n",
        "- `sample_submission.csv` - a sample submission file in the correct format"
      ],
      "metadata": {
        "id": "8bteqFEY6U2X"
      }
    },
    {
      "cell_type": "code",
      "source": [
        "!pip -q install optbinning"
      ],
      "metadata": {
        "_kg_hide-output": true,
        "_kg_hide-input": true,
        "execution": {
          "iopub.status.busy": "2022-06-02T06:26:32.771713Z",
          "iopub.execute_input": "2022-06-02T06:26:32.77213Z",
          "iopub.status.idle": "2022-06-02T06:26:49.322825Z",
          "shell.execute_reply.started": "2022-06-02T06:26:32.772098Z",
          "shell.execute_reply": "2022-06-02T06:26:49.321583Z"
        },
        "trusted": true,
        "id": "RUGP4VK96U2c"
      },
      "outputs": [],
      "execution_count": null
    },
    {
      "cell_type": "markdown",
      "source": [
        "# **<span style=\"color:#F7B2B0;\">Imports</span>**"
      ],
      "metadata": {
        "id": "SN2RoiH26U2e"
      }
    },
    {
      "cell_type": "code",
      "source": [
        "import os\n",
        "import sys\n",
        "import glob\n",
        "\n",
        "import numpy as np\n",
        "import pandas as pd\n",
        "\n",
        "import matplotlib.pylab as plt\n",
        "from matplotlib_venn import venn2\n",
        "import seaborn as sns\n",
        "\n",
        "from tqdm import tqdm\n",
        "from itertools import cycle\n",
        "\n",
        "from sklearn import metrics\n",
        "from sklearn import model_selection\n",
        "from sklearn import preprocessing\n",
        "from sklearn import linear_model\n",
        "from sklearn import feature_selection\n",
        "\n",
        "import lightgbm as lgb\n",
        "import xgboost as xgb\n",
        "import catboost as cat\n",
        "\n",
        "import optbinning\n",
        "\n",
        "pd.set_option(\"display.max_columns\", None)\n",
        "\n",
        "plt.style.use(\"ggplot\")\n",
        "color_pal = plt.rcParams[\"axes.prop_cycle\"].by_key()[\"color\"]\n",
        "color_cycle = cycle(plt.rcParams[\"axes.prop_cycle\"].by_key()[\"color\"])"
      ],
      "metadata": {
        "execution": {
          "iopub.status.busy": "2022-06-02T06:26:49.325339Z",
          "iopub.execute_input": "2022-06-02T06:26:49.325843Z",
          "iopub.status.idle": "2022-06-02T06:26:49.691652Z",
          "shell.execute_reply.started": "2022-06-02T06:26:49.325787Z",
          "shell.execute_reply": "2022-06-02T06:26:49.690932Z"
        },
        "trusted": true,
        "id": "e70YaWhq6U2f"
      },
      "outputs": [],
      "execution_count": null
    },
    {
      "cell_type": "markdown",
      "source": [
        "# **<span style=\"color:#F7B2B0;\">Data Loading</span>**\n",
        "\n",
        "reference: https://www.kaggle.com/competitions/amex-default-prediction/discussion/327400"
      ],
      "metadata": {
        "id": "tZGkdzPk6U2g"
      }
    },
    {
      "cell_type": "code",
      "source": [
        "%%time\n",
        "train_df = pd.read_feather('../input/amex-default-prediction-feather/train.feather')\n",
        "test_df = pd.read_feather('../input/amex-default-prediction-feather/test.feather')\n",
        "train_labels = pd.read_csv(\"../input/amex-default-prediction/train_labels.csv\")\n",
        "train_df.shape, test_df.shape"
      ],
      "metadata": {
        "execution": {
          "iopub.status.busy": "2022-06-02T06:26:49.692947Z",
          "iopub.execute_input": "2022-06-02T06:26:49.693432Z",
          "iopub.status.idle": "2022-06-02T06:27:38.451103Z",
          "shell.execute_reply.started": "2022-06-02T06:26:49.693402Z",
          "shell.execute_reply": "2022-06-02T06:27:38.450001Z"
        },
        "trusted": true,
        "id": "Top1BNl26U2h"
      },
      "outputs": [],
      "execution_count": null
    },
    {
      "cell_type": "code",
      "source": [
        "train_df.head()"
      ],
      "metadata": {
        "execution": {
          "iopub.status.busy": "2022-06-02T06:27:38.453461Z",
          "iopub.execute_input": "2022-06-02T06:27:38.453906Z",
          "iopub.status.idle": "2022-06-02T06:27:38.617013Z",
          "shell.execute_reply.started": "2022-06-02T06:27:38.453866Z",
          "shell.execute_reply": "2022-06-02T06:27:38.616106Z"
        },
        "trusted": true,
        "id": "IwQA0Otd6U2i"
      },
      "outputs": [],
      "execution_count": null
    },
    {
      "cell_type": "markdown",
      "source": [
        "# **<span style=\"color:#F7B2B0;\">Target Distribution</span>**"
      ],
      "metadata": {
        "id": "vBYRvNNJ6U2k"
      }
    },
    {
      "cell_type": "code",
      "source": [
        "fig, ax = plt.subplots(figsize=(10,5))\n",
        "sns.countplot(x=train_labels.target)\n",
        "plt.show()"
      ],
      "metadata": {
        "execution": {
          "iopub.status.busy": "2022-06-02T06:27:38.618527Z",
          "iopub.execute_input": "2022-06-02T06:27:38.618943Z",
          "iopub.status.idle": "2022-06-02T06:27:38.872381Z",
          "shell.execute_reply.started": "2022-06-02T06:27:38.618904Z",
          "shell.execute_reply": "2022-06-02T06:27:38.871546Z"
        },
        "trusted": true,
        "id": "VhM8SARs6U2k"
      },
      "outputs": [],
      "execution_count": null
    },
    {
      "cell_type": "markdown",
      "source": [
        "- 0 --> Non Default\n",
        "- 1 --> Default"
      ],
      "metadata": {
        "id": "51ncdajE6U2l"
      }
    },
    {
      "cell_type": "markdown",
      "source": [
        "# **<span style=\"color:#F7B2B0;\">EDA</span>**"
      ],
      "metadata": {
        "id": "nQ1zu2JT6U2n"
      }
    },
    {
      "cell_type": "code",
      "source": [
        "# checking train test customers\n",
        "\n",
        "fig, ax = plt.subplots(figsize=(10,5))\n",
        "set1 = set(train_df.customer_ID.unique())\n",
        "set2 = set(test_df.customer_ID.unique())\n",
        "\n",
        "venn2([set1, set2], ('train', 'test'))\n",
        "plt.show()"
      ],
      "metadata": {
        "execution": {
          "iopub.status.busy": "2022-06-02T06:27:38.873602Z",
          "iopub.execute_input": "2022-06-02T06:27:38.873918Z",
          "iopub.status.idle": "2022-06-02T06:27:42.48976Z",
          "shell.execute_reply.started": "2022-06-02T06:27:38.873888Z",
          "shell.execute_reply": "2022-06-02T06:27:42.488977Z"
        },
        "trusted": true,
        "id": "ElJkjkeF6U2o"
      },
      "outputs": [],
      "execution_count": null
    },
    {
      "cell_type": "markdown",
      "source": [
        "- we can observe that non of the user intersect in train test data"
      ],
      "metadata": {
        "id": "PJdOXKtL6U2p"
      }
    },
    {
      "cell_type": "code",
      "source": [
        "# s_2 date featue\n",
        "train_df['S_2'] = pd.to_datetime(train_df['S_2'])\n",
        "test_df['S_2'] = pd.to_datetime(test_df['S_2'])\n",
        "\n",
        "train_df['S_2'].min(), train_df['S_2'].max()"
      ],
      "metadata": {
        "execution": {
          "iopub.status.busy": "2022-06-02T06:27:42.491349Z",
          "iopub.execute_input": "2022-06-02T06:27:42.491804Z",
          "iopub.status.idle": "2022-06-02T06:27:45.547648Z",
          "shell.execute_reply.started": "2022-06-02T06:27:42.491761Z",
          "shell.execute_reply": "2022-06-02T06:27:45.546727Z"
        },
        "trusted": true,
        "id": "fh0m3oNg6U2q"
      },
      "outputs": [],
      "execution_count": null
    },
    {
      "cell_type": "code",
      "source": [
        "test_df['S_2'].min(), test_df['S_2'].max()"
      ],
      "metadata": {
        "execution": {
          "iopub.status.busy": "2022-06-02T06:27:45.549285Z",
          "iopub.execute_input": "2022-06-02T06:27:45.549749Z",
          "iopub.status.idle": "2022-06-02T06:27:45.629821Z",
          "shell.execute_reply.started": "2022-06-02T06:27:45.549706Z",
          "shell.execute_reply": "2022-06-02T06:27:45.6289Z"
        },
        "trusted": true,
        "id": "y5Az3ckF6U2q"
      },
      "outputs": [],
      "execution_count": null
    },
    {
      "cell_type": "markdown",
      "source": [
        "- time line also not intersected"
      ],
      "metadata": {
        "id": "vTS9XdmQ6U2q"
      }
    },
    {
      "cell_type": "code",
      "source": [
        "# checking user profiles number of user profiles vs timeline\n",
        "\n",
        "fig, ax = plt.subplots(figsize=(20,5))\n",
        "train_df.groupby(\"S_2\")['customer_ID'].count().plot()\n",
        "plt.title(\"train profiles vs timeline\")\n",
        "plt.show()\n",
        "\n",
        "fig, ax = plt.subplots(figsize=(20,5))\n",
        "test_df.groupby(\"S_2\")['customer_ID'].count().plot()\n",
        "plt.title(\"test profiles vs timeline\")\n",
        "plt.show()"
      ],
      "metadata": {
        "execution": {
          "iopub.status.busy": "2022-06-02T06:27:45.631034Z",
          "iopub.execute_input": "2022-06-02T06:27:45.631369Z",
          "iopub.status.idle": "2022-06-02T06:27:48.650063Z",
          "shell.execute_reply.started": "2022-06-02T06:27:45.631334Z",
          "shell.execute_reply": "2022-06-02T06:27:48.649407Z"
        },
        "trusted": true,
        "id": "QQsQ1j3F6U2r"
      },
      "outputs": [],
      "execution_count": null
    },
    {
      "cell_type": "markdown",
      "source": [
        "- we can observe that train profiles are consistence\n",
        "- but test profiles increased between oct to apr"
      ],
      "metadata": {
        "id": "6kDM6-296U2r"
      }
    },
    {
      "cell_type": "code",
      "source": [
        "# check each customer profile length\n",
        "\n",
        "fig, ax = plt.subplots(figsize=(20,5))\n",
        "sns.countplot(x=train_df.groupby(\"customer_ID\")['customer_ID'].count().values)\n",
        "plt.title(\"train customer profile length\")\n",
        "plt.show()\n",
        "\n",
        "fig, ax = plt.subplots(figsize=(20,5))\n",
        "sns.countplot(x=test_df.groupby(\"customer_ID\")['customer_ID'].count().values)\n",
        "plt.title(\"test customer profile length\")\n",
        "plt.show()"
      ],
      "metadata": {
        "execution": {
          "iopub.status.busy": "2022-06-02T06:27:48.65225Z",
          "iopub.execute_input": "2022-06-02T06:27:48.652732Z",
          "iopub.status.idle": "2022-06-02T06:27:55.623753Z",
          "shell.execute_reply.started": "2022-06-02T06:27:48.6527Z",
          "shell.execute_reply": "2022-06-02T06:27:55.622855Z"
        },
        "trusted": true,
        "id": "oA3urJlk6U2s"
      },
      "outputs": [],
      "execution_count": null
    },
    {
      "cell_type": "markdown",
      "source": [
        "- we can observe that train and test profile lengths are similar distributions"
      ],
      "metadata": {
        "id": "QdKLiZXD6U2s"
      }
    },
    {
      "cell_type": "markdown",
      "source": [
        "# **<span style=\"color:#F7B2B0;\">Weight of Evidence(WOE)</span>**\n",
        "\n",
        "The weight of evidence tells the predictive power of an independent variable in relation to the dependent variable. Since it evolved from credit scoring world, it is generally described as a measure of the separation of good and bad customers. \"Bad Customers\" refers to the customers who defaulted on a loan. and \"Good Customers\" refers to the customers who paid back loan.\n",
        "\n",
        "![woe.png](attachment:987d2f10-92e7-4a53-93c1-5a7a0c2836c0.png)\n",
        "\n",
        "- Distribution of Goods - % of Good Customers in a particular group\n",
        "- Distribution of Bads - % of Bad Customers in a particular group\n",
        "- ln - Natural Log\n",
        "\n",
        "**Steps of Calculating WOE**\n",
        "\n",
        "1. For a continuous variable, split data into 10 parts (or lesser depending on the distribution).\n",
        "2. Calculate the number of events and non-events in each group (bin)\n",
        "3. Calculate the % of events and % of non-events in each group.\n",
        "4. Calculate WOE by taking natural log of division of % of non-events and % of events\n",
        "\n",
        "# **<span style=\"color:#F7B2B0;\">Information Value(IV)</span>**\n",
        "\n",
        "Information value is one of the most useful technique to select important variables in a predictive model. It helps to rank variables on the basis of their importance.\n",
        "\n",
        "![IV.png](attachment:62ca2622-8754-413d-9f4a-ded369509358.png)\n",
        "\n",
        "If the IV statistic is:\n",
        "- Less than 0.02, then the predictor is not useful for modeling (separating the Goods from the Bads)\n",
        "- 0.02 to 0.1, then the predictor has only a weak relationship to the Goods/Bads odds ratio\n",
        "- 0.1 to 0.3, then the predictor has a medium strength relationship to the Goods/Bads odds ratio\n",
        "- 0.3 to 0.5, then the predictor has a strong relationship to the Goods/Bads odds ratio.\n",
        "- > 0.5, suspicious relationship (Check once)\n",
        "\n",
        "\n",
        "Reference: https://www.listendata.com/2015/03/weight-of-evidence-woe-and-information.html"
      ],
      "metadata": {
        "id": "MYXjMZ2n6U2s"
      }
    },
    {
      "cell_type": "markdown",
      "source": [
        "# **<span style=\"color:#F7B2B0;\">Feature Selection</span>**"
      ],
      "metadata": {
        "id": "QIM5NjsH6U2s"
      }
    },
    {
      "cell_type": "code",
      "source": [
        "# Training data preparation\n",
        "# taking latest profile features for each customer\n",
        "\n",
        "train_df = train_df.groupby(\"customer_ID\").tail(1).reset_index(drop=True)\n",
        "test_df = test_df.groupby(\"customer_ID\").tail(1).reset_index(drop=True)"
      ],
      "metadata": {
        "execution": {
          "iopub.status.busy": "2022-06-02T06:27:55.625272Z",
          "iopub.execute_input": "2022-06-02T06:27:55.625865Z",
          "iopub.status.idle": "2022-06-02T06:28:03.660223Z",
          "shell.execute_reply.started": "2022-06-02T06:27:55.625822Z",
          "shell.execute_reply": "2022-06-02T06:28:03.659115Z"
        },
        "trusted": true,
        "id": "GuCF6_g06U2t"
      },
      "outputs": [],
      "execution_count": null
    },
    {
      "cell_type": "code",
      "source": [
        "# Merge with targets\n",
        "train_df = train_df.merge(train_labels, on='customer_ID', how='left')"
      ],
      "metadata": {
        "execution": {
          "iopub.status.busy": "2022-06-02T06:28:03.661352Z",
          "iopub.execute_input": "2022-06-02T06:28:03.661687Z",
          "iopub.status.idle": "2022-06-02T06:28:11.710371Z",
          "shell.execute_reply.started": "2022-06-02T06:28:03.661645Z",
          "shell.execute_reply": "2022-06-02T06:28:11.709291Z"
        },
        "trusted": true,
        "id": "eHiibWQR6U2t"
      },
      "outputs": [],
      "execution_count": null
    },
    {
      "cell_type": "code",
      "source": [
        "target_col = 'target'\n",
        "drop_cols = ['customer_ID', 'S_2', target_col]\n",
        "cat_cols = ['B_30', 'B_38', 'D_114', 'D_116', 'D_117', 'D_120', 'D_126', 'D_63', 'D_64', 'D_66', 'D_68']\n",
        "train_cols = [col for col in train_df.columns if col not in drop_cols]"
      ],
      "metadata": {
        "execution": {
          "iopub.status.busy": "2022-06-02T06:28:11.711505Z",
          "iopub.execute_input": "2022-06-02T06:28:11.711862Z",
          "iopub.status.idle": "2022-06-02T06:28:11.717358Z",
          "shell.execute_reply.started": "2022-06-02T06:28:11.711831Z",
          "shell.execute_reply": "2022-06-02T06:28:11.716521Z"
        },
        "trusted": true,
        "id": "RHaR5pf86U2t"
      },
      "outputs": [],
      "execution_count": null
    },
    {
      "cell_type": "markdown",
      "source": [
        "## **<span style=\"color:#F7B2B0;\">Information Value (IV)</span>**\n",
        "\n",
        "- for selecting features we are calculating IV values for each feature\n",
        "- thankfully `optbinning` will do for us :)"
      ],
      "metadata": {
        "id": "Y_fmmM-66U2t"
      }
    },
    {
      "cell_type": "code",
      "source": [
        "iv_score_dict = {}\n",
        "for col in tqdm(train_cols):\n",
        "    if col in cat_cols:\n",
        "        optb = optbinning.OptimalBinning(dtype='categorical')\n",
        "        optb.fit(train_df[col], train_df['target'])\n",
        "    else:\n",
        "        optb = optbinning.OptimalBinning(dtype='numerical')\n",
        "        optb.fit(train_df[col], train_df['target'])\n",
        "    binning_table = optb.binning_table\n",
        "    binning_table.build()\n",
        "    iv_score_dict[col] = binning_table.iv\n",
        "\n",
        "iv_score_df = pd.Series(iv_score_dict)\n",
        "iv_score_df.sort_values(ascending=False, inplace=True)"
      ],
      "metadata": {
        "execution": {
          "iopub.status.busy": "2022-06-02T06:28:11.718774Z",
          "iopub.execute_input": "2022-06-02T06:28:11.71921Z",
          "iopub.status.idle": "2022-06-02T06:29:50.302616Z",
          "shell.execute_reply.started": "2022-06-02T06:28:11.719167Z",
          "shell.execute_reply": "2022-06-02T06:29:50.301733Z"
        },
        "trusted": true,
        "id": "h0BqwNly6U2t"
      },
      "outputs": [],
      "execution_count": null
    },
    {
      "cell_type": "code",
      "source": [
        "# top 10 imp iv features\n",
        "iv_score_df.head(10)"
      ],
      "metadata": {
        "execution": {
          "iopub.status.busy": "2022-06-02T06:29:50.303837Z",
          "iopub.execute_input": "2022-06-02T06:29:50.304245Z",
          "iopub.status.idle": "2022-06-02T06:29:50.311Z",
          "shell.execute_reply.started": "2022-06-02T06:29:50.30421Z",
          "shell.execute_reply": "2022-06-02T06:29:50.310145Z"
        },
        "trusted": true,
        "id": "HIRcJu5h6U2t"
      },
      "outputs": [],
      "execution_count": null
    },
    {
      "cell_type": "code",
      "source": [
        "# iv score vs features\n",
        "fig, ax = plt.subplots(figsize=(20,5))\n",
        "iv_score_df.reset_index(drop=True).plot()\n",
        "plt.show()"
      ],
      "metadata": {
        "execution": {
          "iopub.status.busy": "2022-06-02T06:29:50.312797Z",
          "iopub.execute_input": "2022-06-02T06:29:50.313565Z",
          "iopub.status.idle": "2022-06-02T06:29:50.505897Z",
          "shell.execute_reply.started": "2022-06-02T06:29:50.313522Z",
          "shell.execute_reply": "2022-06-02T06:29:50.50524Z"
        },
        "trusted": true,
        "id": "IOYJmQkX6U2u"
      },
      "outputs": [],
      "execution_count": null
    },
    {
      "cell_type": "markdown",
      "source": [
        "- we can observe that top 75 features have > 0.5 IV value\n",
        "- so those top 75 IV value features are strong predictors"
      ],
      "metadata": {
        "execution": {
          "iopub.status.busy": "2022-05-30T04:08:47.913562Z",
          "iopub.execute_input": "2022-05-30T04:08:47.915143Z",
          "iopub.status.idle": "2022-05-30T04:08:47.924946Z",
          "shell.execute_reply.started": "2022-05-30T04:08:47.915082Z",
          "shell.execute_reply": "2022-05-30T04:08:47.923217Z"
        },
        "id": "Mz_d-Fst6U2v"
      }
    },
    {
      "cell_type": "markdown",
      "source": [
        "## **<span style=\"color:#F7B2B0;\">Weight of Evidence (WOE)</span>**\n",
        "\n",
        "- i will try to explan woe values and woe plot for one feature"
      ],
      "metadata": {
        "id": "xM40VLHd6U2v"
      }
    },
    {
      "cell_type": "code",
      "source": [
        "col = 'P_2'\n",
        "optb = optbinning.OptimalBinning(dtype='numerical')\n",
        "optb.fit(train_df[col], train_df['target'])\n",
        "binning_table = optb.binning_table\n",
        "display(binning_table.build())"
      ],
      "metadata": {
        "execution": {
          "iopub.status.busy": "2022-06-02T06:29:50.506785Z",
          "iopub.execute_input": "2022-06-02T06:29:50.507173Z",
          "iopub.status.idle": "2022-06-02T06:29:51.075716Z",
          "shell.execute_reply.started": "2022-06-02T06:29:50.507144Z",
          "shell.execute_reply": "2022-06-02T06:29:51.074976Z"
        },
        "trusted": true,
        "id": "p5UterNa6U2v"
      },
      "outputs": [],
      "execution_count": null
    },
    {
      "cell_type": "markdown",
      "source": [
        "- `P_2` is a continuous feature, os we splited into 15 bins\n",
        "- each bin have non-event and event counts and rates\n",
        "- each bin have WOE and IV values\n",
        "- for missing values it's created 16th bin"
      ],
      "metadata": {
        "id": "rTGs_gt_6U2w"
      }
    },
    {
      "cell_type": "code",
      "source": [
        "display(binning_table.plot(metric=\"woe\"))"
      ],
      "metadata": {
        "execution": {
          "iopub.status.busy": "2022-06-02T06:29:51.076599Z",
          "iopub.execute_input": "2022-06-02T06:29:51.077024Z",
          "iopub.status.idle": "2022-06-02T06:29:51.459714Z",
          "shell.execute_reply.started": "2022-06-02T06:29:51.076994Z",
          "shell.execute_reply": "2022-06-02T06:29:51.458891Z"
        },
        "trusted": true,
        "id": "pYE8HcZY6U2w"
      },
      "outputs": [],
      "execution_count": null
    },
    {
      "cell_type": "markdown",
      "source": [
        "- from this woe plot we can observe that while increasing bins the event rate decrease\n",
        "- you can observe that black doted line that is positively correlated with target"
      ],
      "metadata": {
        "id": "L0RT_oeB6U2x"
      }
    },
    {
      "cell_type": "code",
      "source": [
        "# WOE plots for top 10 features\n",
        "top10_features = iv_score_df[:10].index.values\n",
        "\n",
        "for col in top10_features:\n",
        "    print(\"-\"*100)\n",
        "    print(\"=\"*100)\n",
        "    print(\"################ Feature Name : \", col)\n",
        "    print(\"\\n\\n\")\n",
        "\n",
        "    if col in cat_cols:\n",
        "        optb = optbinning.OptimalBinning(dtype='categorical')\n",
        "        optb.fit(train_df[col], train_df['target'])\n",
        "    else:\n",
        "        optb = optbinning.OptimalBinning(dtype='numerical')\n",
        "        optb.fit(train_df[col], train_df['target'])\n",
        "\n",
        "    binning_table = optb.binning_table\n",
        "    display(binning_table.build())\n",
        "    display(binning_table.plot(metric=\"woe\"))"
      ],
      "metadata": {
        "execution": {
          "iopub.status.busy": "2022-06-02T06:29:51.461371Z",
          "iopub.execute_input": "2022-06-02T06:29:51.461825Z",
          "iopub.status.idle": "2022-06-02T06:30:00.56912Z",
          "shell.execute_reply.started": "2022-06-02T06:29:51.461782Z",
          "shell.execute_reply": "2022-06-02T06:30:00.568237Z"
        },
        "trusted": true,
        "id": "Sj6cf_AK6U2x"
      },
      "outputs": [],
      "execution_count": null
    },
    {
      "cell_type": "markdown",
      "source": [
        "- selecting features IV values > 0.5"
      ],
      "metadata": {
        "id": "2A3X6GxF6U2x"
      }
    },
    {
      "cell_type": "code",
      "source": [
        "selected_features = iv_score_df[iv_score_df > 0.5].index.values\n",
        "cat_cols = [col for col in cat_cols if col in selected_features]\n",
        "train_cols = [col for col in train_df.columns if col in selected_features]"
      ],
      "metadata": {
        "execution": {
          "iopub.status.busy": "2022-06-02T06:36:40.362841Z",
          "iopub.execute_input": "2022-06-02T06:36:40.363661Z",
          "iopub.status.idle": "2022-06-02T06:36:40.371776Z",
          "shell.execute_reply.started": "2022-06-02T06:36:40.363614Z",
          "shell.execute_reply": "2022-06-02T06:36:40.371038Z"
        },
        "trusted": true,
        "id": "Y7CLQbAq6U2y"
      },
      "outputs": [],
      "execution_count": null
    },
    {
      "cell_type": "markdown",
      "source": [
        "## **<span style=\"color:#F7B2B0;\">Correlation Heatmap</span>**"
      ],
      "metadata": {
        "id": "7R0UzNAG6U2y"
      }
    },
    {
      "cell_type": "code",
      "source": [
        "top_cols = [col for col in selected_features[:20] if col in train_cols]\n",
        "corr_df = train_df[top_cols].corr()\n",
        "plt.figure(figsize=(25, 9))\n",
        "sns.heatmap(corr_df,annot=True ,cmap=sns.color_palette(\"BrBG\",2));\n",
        "plt.show()"
      ],
      "metadata": {
        "execution": {
          "iopub.status.busy": "2022-06-02T06:36:40.736768Z",
          "iopub.execute_input": "2022-06-02T06:36:40.737389Z",
          "iopub.status.idle": "2022-06-02T06:36:43.121358Z",
          "shell.execute_reply.started": "2022-06-02T06:36:40.737352Z",
          "shell.execute_reply": "2022-06-02T06:36:43.120295Z"
        },
        "trusted": true,
        "id": "FhBNbEwM6U3E"
      },
      "outputs": [],
      "execution_count": null
    },
    {
      "cell_type": "code",
      "source": [
        "def drop_feature_selection(row, col, corr, row_iv, col_iv):\n",
        "    if row_iv >= col_iv:\n",
        "        return col\n",
        "    else:\n",
        "        return row"
      ],
      "metadata": {
        "execution": {
          "iopub.status.busy": "2022-06-02T06:36:44.156324Z",
          "iopub.execute_input": "2022-06-02T06:36:44.157269Z",
          "iopub.status.idle": "2022-06-02T06:36:44.162187Z",
          "shell.execute_reply.started": "2022-06-02T06:36:44.15722Z",
          "shell.execute_reply": "2022-06-02T06:36:44.161279Z"
        },
        "trusted": true,
        "id": "5oqbnVGj6U3E"
      },
      "outputs": [],
      "execution_count": null
    },
    {
      "cell_type": "code",
      "source": [
        "cor_matrix = train_df[train_cols].corr().abs()\n",
        "upper_tri = cor_matrix.where(np.triu(np.ones(cor_matrix.shape),k=1).astype(np.bool_))\n",
        "corr_df = upper_tri.stack().reset_index()\n",
        "corr_df.columns = ['row', 'col', 'corr']\n",
        "corr_df = corr_df.drop_duplicates()\n",
        "corr_df = corr_df.sort_values('corr', ascending=False)\n",
        "corr_df = corr_df.query(\"corr >= 0.8\")\n",
        "corr_df['row_iv'] = corr_df['row'].map(iv_score_dict)\n",
        "corr_df['col_iv'] = corr_df['col'].map(iv_score_dict)\n",
        "\n",
        "corr_df['drop_feature'] = corr_df.apply(lambda x: drop_feature_selection(x['row'], x['col'], x['corr'], x['row_iv'], x['col_iv']), axis=1)"
      ],
      "metadata": {
        "execution": {
          "iopub.status.busy": "2022-06-02T06:36:45.606957Z",
          "iopub.execute_input": "2022-06-02T06:36:45.607631Z",
          "iopub.status.idle": "2022-06-02T06:36:51.119761Z",
          "shell.execute_reply.started": "2022-06-02T06:36:45.607593Z",
          "shell.execute_reply": "2022-06-02T06:36:51.118911Z"
        },
        "trusted": true,
        "id": "cbdVPL9u6U3F"
      },
      "outputs": [],
      "execution_count": null
    },
    {
      "cell_type": "code",
      "source": [
        "corr_df"
      ],
      "metadata": {
        "execution": {
          "iopub.status.busy": "2022-06-02T06:36:51.121312Z",
          "iopub.execute_input": "2022-06-02T06:36:51.121637Z",
          "iopub.status.idle": "2022-06-02T06:36:51.137855Z",
          "shell.execute_reply.started": "2022-06-02T06:36:51.121608Z",
          "shell.execute_reply": "2022-06-02T06:36:51.136955Z"
        },
        "trusted": true,
        "id": "caLX-qIz6U3G"
      },
      "outputs": [],
      "execution_count": null
    },
    {
      "cell_type": "code",
      "source": [
        "corr_drop_features = corr_df['drop_feature'].unique().tolist()"
      ],
      "metadata": {
        "execution": {
          "iopub.status.busy": "2022-06-02T06:36:51.139116Z",
          "iopub.execute_input": "2022-06-02T06:36:51.139449Z",
          "iopub.status.idle": "2022-06-02T06:36:51.149559Z",
          "shell.execute_reply.started": "2022-06-02T06:36:51.13942Z",
          "shell.execute_reply": "2022-06-02T06:36:51.14884Z"
        },
        "trusted": true,
        "id": "9LKyrFcE6U3G"
      },
      "outputs": [],
      "execution_count": null
    },
    {
      "cell_type": "markdown",
      "source": [
        "# **<span style=\"color:#F7B2B0;\">Modeling</span>**"
      ],
      "metadata": {
        "id": "vS2nJfF56U3G"
      }
    },
    {
      "cell_type": "code",
      "source": [
        "# train valid split\n",
        "train_data, valid_data = model_selection.train_test_split(train_df, test_size=0.3, random_state=42, shuffle=True, stratify=train_df['target'])\n",
        "\n",
        "train_data.shape, valid_data.shape"
      ],
      "metadata": {
        "execution": {
          "iopub.status.busy": "2022-06-02T06:36:51.150998Z",
          "iopub.execute_input": "2022-06-02T06:36:51.151467Z",
          "iopub.status.idle": "2022-06-02T06:36:52.569133Z",
          "shell.execute_reply.started": "2022-06-02T06:36:51.151425Z",
          "shell.execute_reply": "2022-06-02T06:36:52.568102Z"
        },
        "trusted": true,
        "id": "ZcHIAWoA6U3G"
      },
      "outputs": [],
      "execution_count": null
    },
    {
      "cell_type": "code",
      "source": [
        "selected_features = [col for col in selected_features if col not in corr_drop_features]\n",
        "cat_cols = [col for col in cat_cols if col in selected_features]\n",
        "train_cols = [col for col in train_df.columns if col in selected_features]"
      ],
      "metadata": {
        "execution": {
          "iopub.status.busy": "2022-06-02T06:36:57.776408Z",
          "iopub.execute_input": "2022-06-02T06:36:57.777381Z",
          "iopub.status.idle": "2022-06-02T06:36:57.782806Z",
          "shell.execute_reply.started": "2022-06-02T06:36:57.777331Z",
          "shell.execute_reply": "2022-06-02T06:36:57.781934Z"
        },
        "trusted": true,
        "id": "qi8NDDMR6U3H"
      },
      "outputs": [],
      "execution_count": null
    },
    {
      "cell_type": "code",
      "source": [
        "X_train = train_data[train_cols].copy()\n",
        "y_train = train_data[target_col].copy()\n",
        "\n",
        "X_valid = valid_data[train_cols].copy()\n",
        "y_valid = valid_data[target_col].copy()\n",
        "\n",
        "X_test = test_df[train_cols].copy()"
      ],
      "metadata": {
        "execution": {
          "iopub.status.busy": "2022-06-02T06:37:03.206381Z",
          "iopub.execute_input": "2022-06-02T06:37:03.207283Z",
          "iopub.status.idle": "2022-06-02T06:37:03.529271Z",
          "shell.execute_reply.started": "2022-06-02T06:37:03.207239Z",
          "shell.execute_reply": "2022-06-02T06:37:03.52823Z"
        },
        "trusted": true,
        "id": "5bwEKnGy6U3H"
      },
      "outputs": [],
      "execution_count": null
    },
    {
      "cell_type": "code",
      "source": [
        "# binning process\n",
        "\n",
        "# selection_criteria = {\n",
        "#     \"iv\": {\"min\": 0.02, \"max\": 1},\n",
        "#     \"quality_score\": {\"min\": 0.01}\n",
        "# }\n",
        "\n",
        "binning_process = optbinning.BinningProcess(\n",
        "    variable_names=train_cols,\n",
        "    #selection_criteria=selection_criteria,\n",
        "    categorical_variables=cat_cols\n",
        ")"
      ],
      "metadata": {
        "execution": {
          "iopub.status.busy": "2022-06-02T06:37:03.546211Z",
          "iopub.execute_input": "2022-06-02T06:37:03.546579Z",
          "iopub.status.idle": "2022-06-02T06:37:03.552067Z",
          "shell.execute_reply.started": "2022-06-02T06:37:03.546548Z",
          "shell.execute_reply": "2022-06-02T06:37:03.550988Z"
        },
        "trusted": true,
        "id": "qCwCEMEm6U3H"
      },
      "outputs": [],
      "execution_count": null
    },
    {
      "cell_type": "code",
      "source": [
        "# estimator\n",
        "estimator = linear_model.LogisticRegression()"
      ],
      "metadata": {
        "execution": {
          "iopub.status.busy": "2022-06-02T06:37:05.18234Z",
          "iopub.execute_input": "2022-06-02T06:37:05.182764Z",
          "iopub.status.idle": "2022-06-02T06:37:05.187686Z",
          "shell.execute_reply.started": "2022-06-02T06:37:05.182731Z",
          "shell.execute_reply": "2022-06-02T06:37:05.186711Z"
        },
        "trusted": true,
        "id": "3pprUUw66U3H"
      },
      "outputs": [],
      "execution_count": null
    },
    {
      "cell_type": "code",
      "source": [
        "# scorecard\n",
        "scorecard = optbinning.Scorecard(\n",
        "    binning_process=binning_process,\n",
        "    estimator=estimator,\n",
        "    scaling_method=\"min_max\",\n",
        "    scaling_method_params={\"min\": 300, \"max\": 850},\n",
        "    # scaling_method = \"pdo_odds\",\n",
        "    # scaling_method_params = {\"pdo\": 20, \"odds\": 50, \"scorecard_points\": 100},\n",
        "    #intercept_based=True,\n",
        "    #reverse_scorecard=True\n",
        ")"
      ],
      "metadata": {
        "execution": {
          "iopub.status.busy": "2022-06-02T06:37:05.706384Z",
          "iopub.execute_input": "2022-06-02T06:37:05.707491Z",
          "iopub.status.idle": "2022-06-02T06:37:05.714071Z",
          "shell.execute_reply.started": "2022-06-02T06:37:05.707422Z",
          "shell.execute_reply": "2022-06-02T06:37:05.712861Z"
        },
        "trusted": true,
        "id": "M7gGcWXg6U3H"
      },
      "outputs": [],
      "execution_count": null
    },
    {
      "cell_type": "code",
      "source": [
        "# model fitting\n",
        "scorecard.fit(X_train, y_train)"
      ],
      "metadata": {
        "execution": {
          "iopub.status.busy": "2022-06-02T06:37:06.826432Z",
          "iopub.execute_input": "2022-06-02T06:37:06.82735Z",
          "iopub.status.idle": "2022-06-02T06:37:35.936509Z",
          "shell.execute_reply.started": "2022-06-02T06:37:06.827306Z",
          "shell.execute_reply": "2022-06-02T06:37:35.935444Z"
        },
        "trusted": true,
        "id": "bt2teI4K6U3I"
      },
      "outputs": [],
      "execution_count": null
    },
    {
      "cell_type": "code",
      "source": [
        "# scorecard table\n",
        "scorecard_df = scorecard.table(style=\"detailed\")"
      ],
      "metadata": {
        "execution": {
          "iopub.status.busy": "2022-06-02T06:37:35.93866Z",
          "iopub.execute_input": "2022-06-02T06:37:35.939135Z",
          "iopub.status.idle": "2022-06-02T06:37:35.945724Z",
          "shell.execute_reply.started": "2022-06-02T06:37:35.939086Z",
          "shell.execute_reply": "2022-06-02T06:37:35.944779Z"
        },
        "trusted": true,
        "id": "Zyu5s-AW6U3I"
      },
      "outputs": [],
      "execution_count": null
    },
    {
      "cell_type": "code",
      "source": [
        "scorecard_df.head()"
      ],
      "metadata": {
        "execution": {
          "iopub.status.busy": "2022-06-02T06:37:35.94687Z",
          "iopub.execute_input": "2022-06-02T06:37:35.947184Z",
          "iopub.status.idle": "2022-06-02T06:37:35.970588Z",
          "shell.execute_reply.started": "2022-06-02T06:37:35.947157Z",
          "shell.execute_reply": "2022-06-02T06:37:35.969716Z"
        },
        "trusted": true,
        "id": "nyGSpV2i6U3J"
      },
      "outputs": [],
      "execution_count": null
    },
    {
      "cell_type": "code",
      "source": [
        "# will try to understand scorecard for one feature\n",
        "\n",
        "scorecard_df.query(\"Variable == 'P_2'\")"
      ],
      "metadata": {
        "execution": {
          "iopub.status.busy": "2022-06-02T06:37:35.973076Z",
          "iopub.execute_input": "2022-06-02T06:37:35.974089Z",
          "iopub.status.idle": "2022-06-02T06:37:36.003043Z",
          "shell.execute_reply.started": "2022-06-02T06:37:35.974052Z",
          "shell.execute_reply": "2022-06-02T06:37:36.00229Z"
        },
        "trusted": true,
        "id": "rv5K9VOX6U3J"
      },
      "outputs": [],
      "execution_count": null
    },
    {
      "cell_type": "markdown",
      "source": [
        "- we can observe that `P_2` feature Points (score).\n",
        "- while increasing bins the score also increasing\n",
        "- for example if the user `P_2` value is 0.73 then that user belongs to 7th bin corresponding score is `22.45`"
      ],
      "metadata": {
        "id": "lV7zKJC_6U3J"
      }
    },
    {
      "cell_type": "markdown",
      "source": [
        "## **<span style=\"color:#F7B2B0;\">Metrics</span>**"
      ],
      "metadata": {
        "id": "7LBE52XU6U3K"
      }
    },
    {
      "cell_type": "code",
      "source": [
        "def amex_metric(y_true, y_pred, return_components=False) -> float:\n",
        "    \"\"\"Amex metric for ndarrays\"\"\"\n",
        "    def top_four_percent_captured(df) -> float:\n",
        "        \"\"\"Corresponds to the recall for a threshold of 4 %\"\"\"\n",
        "        df['weight'] = df['target'].apply(lambda x: 20 if x==0 else 1)\n",
        "        four_pct_cutoff = int(0.04 * df['weight'].sum())\n",
        "        df['weight_cumsum'] = df['weight'].cumsum()\n",
        "        df_cutoff = df.loc[df['weight_cumsum'] <= four_pct_cutoff]\n",
        "        return (df_cutoff['target'] == 1).sum() / (df['target'] == 1).sum()\n",
        "\n",
        "    def weighted_gini(df) -> float:\n",
        "        df['weight'] = df['target'].apply(lambda x: 20 if x==0 else 1)\n",
        "        df['random'] = (df['weight'] / df['weight'].sum()).cumsum()\n",
        "        total_pos = (df['target'] * df['weight']).sum()\n",
        "        df['cum_pos_found'] = (df['target'] * df['weight']).cumsum()\n",
        "        df['lorentz'] = df['cum_pos_found'] / total_pos\n",
        "        df['gini'] = (df['lorentz'] - df['random']) * df['weight']\n",
        "        return df['gini'].sum()\n",
        "\n",
        "    def normalized_weighted_gini(df) -> float:\n",
        "        \"\"\"Corresponds to 2 * AUC - 1\"\"\"\n",
        "        df2 = pd.DataFrame({'target': df.target, 'prediction': df.target})\n",
        "        df2.sort_values('prediction', ascending=False, inplace=True)\n",
        "        return weighted_gini(df) / weighted_gini(df2)\n",
        "\n",
        "    df = pd.DataFrame({'target': y_true.ravel(), 'prediction': y_pred.ravel()})\n",
        "    df.sort_values('prediction', ascending=False, inplace=True)\n",
        "    g = normalized_weighted_gini(df)\n",
        "    d = top_four_percent_captured(df)\n",
        "\n",
        "    if return_components: return g, d, 0.5 * (g + d)\n",
        "    return 0.5 * (g + d)"
      ],
      "metadata": {
        "_kg_hide-input": true,
        "execution": {
          "iopub.status.busy": "2022-06-02T06:37:36.004304Z",
          "iopub.execute_input": "2022-06-02T06:37:36.004633Z",
          "iopub.status.idle": "2022-06-02T06:37:36.01878Z",
          "shell.execute_reply.started": "2022-06-02T06:37:36.004601Z",
          "shell.execute_reply": "2022-06-02T06:37:36.017944Z"
        },
        "trusted": true,
        "id": "29DcAm496U3L"
      },
      "outputs": [],
      "execution_count": null
    },
    {
      "cell_type": "code",
      "source": [
        "train_data['predict_proba'] = scorecard.predict_proba(X_train)[:, 1]\n",
        "valid_data['predict_proba'] = scorecard.predict_proba(X_valid)[:, 1]\n",
        "\n",
        "train_score = amex_metric(train_data['target'], train_data['predict_proba'])\n",
        "valid_score = amex_metric(valid_data['target'], valid_data['predict_proba'])\n",
        "\n",
        "print(\"Train Score :\", train_score)\n",
        "print(\"Valid Score :\", valid_score)"
      ],
      "metadata": {
        "execution": {
          "iopub.status.busy": "2022-06-02T06:37:36.01995Z",
          "iopub.execute_input": "2022-06-02T06:37:36.020702Z",
          "iopub.status.idle": "2022-06-02T06:37:39.270646Z",
          "shell.execute_reply.started": "2022-06-02T06:37:36.020656Z",
          "shell.execute_reply": "2022-06-02T06:37:39.269716Z"
        },
        "trusted": true,
        "id": "anVFrP6g6U3M"
      },
      "outputs": [],
      "execution_count": null
    },
    {
      "cell_type": "code",
      "source": [
        "false_positive_rate, true_positive_rate, thresholds = metrics.roc_curve(y_train, train_data['predict_proba'])\n",
        "optimal_idx = np.argmax(true_positive_rate - false_positive_rate)\n",
        "optimal_threshold = thresholds[optimal_idx]\n",
        "auc_score = metrics.auc(false_positive_rate, true_positive_rate)\n",
        "print(\"Train Threshold value is:\", optimal_threshold)\n",
        "\n",
        "false_positive_rate1, true_positive_rate1, thresholds = metrics.roc_curve(y_valid, valid_data['predict_proba'])\n",
        "optimal_idx = np.argmax(true_positive_rate1 - false_positive_rate1)\n",
        "optimal_threshold1 = thresholds[optimal_idx]\n",
        "auc_score1 = metrics.auc(false_positive_rate1, true_positive_rate1)\n",
        "print(\"Valid Threshold value is:\", optimal_threshold1)\n",
        "\n",
        "plt.title('Receiver Operating Characteristic')\n",
        "plt.plot(false_positive_rate, true_positive_rate, 'b', label='Binning+LR: Train AUC = {0:.4f}'.format(auc_score))\n",
        "plt.plot(false_positive_rate1, true_positive_rate1, 'r', label='Binning+LR: Valid AUC = {0:.4f}'.format(auc_score1))\n",
        "plt.legend(loc='lower right')\n",
        "plt.plot([0, 1], [0, 1],'k--')\n",
        "plt.xlim([0, 1])\n",
        "plt.ylim([0, 1])\n",
        "plt.ylabel('True Positive Rate')\n",
        "plt.xlabel('False Positive Rate')\n",
        "plt.show()"
      ],
      "metadata": {
        "_kg_hide-input": true,
        "execution": {
          "iopub.status.busy": "2022-06-02T06:37:39.271792Z",
          "iopub.execute_input": "2022-06-02T06:37:39.272116Z",
          "iopub.status.idle": "2022-06-02T06:37:39.590827Z",
          "shell.execute_reply.started": "2022-06-02T06:37:39.272077Z",
          "shell.execute_reply": "2022-06-02T06:37:39.589856Z"
        },
        "trusted": true,
        "id": "Q5aJyXTD6U3M"
      },
      "outputs": [],
      "execution_count": null
    },
    {
      "cell_type": "code",
      "source": [
        "train_data['predict'] = (train_data['predict_proba'] > optimal_threshold).astype(int)\n",
        "valid_data['predict'] = (valid_data['predict_proba'] > optimal_threshold).astype(int)"
      ],
      "metadata": {
        "execution": {
          "iopub.status.busy": "2022-06-02T06:37:39.592049Z",
          "iopub.execute_input": "2022-06-02T06:37:39.592422Z",
          "iopub.status.idle": "2022-06-02T06:37:39.600707Z",
          "shell.execute_reply.started": "2022-06-02T06:37:39.59238Z",
          "shell.execute_reply": "2022-06-02T06:37:39.599767Z"
        },
        "trusted": true,
        "id": "L5ofqz4u6U3N"
      },
      "outputs": [],
      "execution_count": null
    },
    {
      "cell_type": "code",
      "source": [
        "conf_mat = metrics.confusion_matrix(train_data['target'], train_data['predict'])\n",
        "fig, (ax1, ax2) = plt.subplots(1,2, figsize=(10,4))\n",
        "\n",
        "sns.heatmap(conf_mat, square=True, annot=True, cmap='Blues', fmt='d', cbar=False, ax=ax1)\n",
        "sns.heatmap(conf_mat/np.sum(conf_mat), annot=True, fmt='.2%', cmap='Blues', ax=ax2)\n",
        "plt.show()"
      ],
      "metadata": {
        "execution": {
          "iopub.status.busy": "2022-06-02T06:37:39.602178Z",
          "iopub.execute_input": "2022-06-02T06:37:39.602917Z",
          "iopub.status.idle": "2022-06-02T06:37:39.99037Z",
          "shell.execute_reply.started": "2022-06-02T06:37:39.60287Z",
          "shell.execute_reply": "2022-06-02T06:37:39.989717Z"
        },
        "trusted": true,
        "id": "5Vabv3J26U3N"
      },
      "outputs": [],
      "execution_count": null
    },
    {
      "cell_type": "code",
      "source": [
        "conf_mat = metrics.confusion_matrix(valid_data['target'], valid_data['predict'])\n",
        "fig, (ax1, ax2) = plt.subplots(1,2, figsize=(10,4))\n",
        "\n",
        "sns.heatmap(conf_mat, square=True, annot=True, cmap='Blues', fmt='d', cbar=False, ax=ax1)\n",
        "sns.heatmap(conf_mat/np.sum(conf_mat), annot=True, fmt='.2%', cmap='Blues', ax=ax2)\n",
        "plt.show()"
      ],
      "metadata": {
        "execution": {
          "iopub.status.busy": "2022-06-02T06:37:39.992437Z",
          "iopub.execute_input": "2022-06-02T06:37:39.993333Z",
          "iopub.status.idle": "2022-06-02T06:37:40.335369Z",
          "shell.execute_reply.started": "2022-06-02T06:37:39.993298Z",
          "shell.execute_reply": "2022-06-02T06:37:40.334724Z"
        },
        "trusted": true,
        "id": "APwDjjv46U3N"
      },
      "outputs": [],
      "execution_count": null
    },
    {
      "cell_type": "code",
      "source": [
        "print(metrics.classification_report(train_data['target'], train_data['predict'], labels=[0, 1]))"
      ],
      "metadata": {
        "execution": {
          "iopub.status.busy": "2022-06-02T06:37:40.336268Z",
          "iopub.execute_input": "2022-06-02T06:37:40.337011Z",
          "iopub.status.idle": "2022-06-02T06:37:40.995168Z",
          "shell.execute_reply.started": "2022-06-02T06:37:40.336976Z",
          "shell.execute_reply": "2022-06-02T06:37:40.994147Z"
        },
        "trusted": true,
        "id": "HkG16ZK_6U3O"
      },
      "outputs": [],
      "execution_count": null
    },
    {
      "cell_type": "code",
      "source": [
        "print(metrics.classification_report(valid_data['target'], valid_data['predict'], labels=[0, 1]))"
      ],
      "metadata": {
        "execution": {
          "iopub.status.busy": "2022-06-02T06:37:40.996301Z",
          "iopub.execute_input": "2022-06-02T06:37:40.996629Z",
          "iopub.status.idle": "2022-06-02T06:37:41.272843Z",
          "shell.execute_reply.started": "2022-06-02T06:37:40.996582Z",
          "shell.execute_reply": "2022-06-02T06:37:41.271764Z"
        },
        "trusted": true,
        "id": "EoBxM2NI6U3P"
      },
      "outputs": [],
      "execution_count": null
    },
    {
      "cell_type": "markdown",
      "source": [
        "## **<span style=\"color:#F7B2B0;\">Scores</span>**"
      ],
      "metadata": {
        "id": "CjFFZy_46U3P"
      }
    },
    {
      "cell_type": "code",
      "source": [
        "train_data['score'] = scorecard.score(X_train)\n",
        "valid_data['score'] = scorecard.score(X_valid)"
      ],
      "metadata": {
        "execution": {
          "iopub.status.busy": "2022-06-02T06:37:41.273997Z",
          "iopub.execute_input": "2022-06-02T06:37:41.274318Z",
          "iopub.status.idle": "2022-06-02T06:37:43.912434Z",
          "shell.execute_reply.started": "2022-06-02T06:37:41.274288Z",
          "shell.execute_reply": "2022-06-02T06:37:43.911732Z"
        },
        "trusted": true,
        "id": "xamfnfts6U3P"
      },
      "outputs": [],
      "execution_count": null
    },
    {
      "cell_type": "code",
      "source": [
        "y_test = valid_data['target']\n",
        "score = valid_data['score']\n",
        "\n",
        "mask = y_test == 0\n",
        "\n",
        "fig, ax = plt.subplots(figsize=(20,10))\n",
        "plt.hist(score[mask], label=\"non-default\", color=\"b\", alpha=0.35)\n",
        "plt.hist(score[~mask], label=\"default\", color=\"r\", alpha=0.35)\n",
        "plt.xlabel(\"score\")\n",
        "plt.legend()\n",
        "plt.show()"
      ],
      "metadata": {
        "execution": {
          "iopub.status.busy": "2022-06-02T06:37:43.913887Z",
          "iopub.execute_input": "2022-06-02T06:37:43.914489Z",
          "iopub.status.idle": "2022-06-02T06:37:44.200587Z",
          "shell.execute_reply.started": "2022-06-02T06:37:43.914444Z",
          "shell.execute_reply": "2022-06-02T06:37:44.199616Z"
        },
        "trusted": true,
        "id": "PwY5lRuP6U3P"
      },
      "outputs": [],
      "execution_count": null
    },
    {
      "cell_type": "markdown",
      "source": [
        "- we can observe that default vs non-default score distribution\n",
        "- some overlap between 550 to 650\n",
        "- overall well seperated"
      ],
      "metadata": {
        "id": "3yGjysyo6U3Q"
      }
    },
    {
      "cell_type": "code",
      "source": [
        "# Plot Distribution of Scores\n",
        "plt.figure(figsize=(20,10))\n",
        "\n",
        "plt.hist(score,\n",
        "         bins=100,\n",
        "         edgecolor='white',\n",
        "         color = '#317DC2',\n",
        "         linewidth=1.2)\n",
        "\n",
        "#plt.xlim(231,750)\n",
        "plt.title('Scorecard Distribution', fontweight=\"bold\", fontsize=14)\n",
        "# plt.axvline(score.mean(), color='k', linestyle='dashed', linewidth=1.5, alpha=0.5)\n",
        "# plt.text(458, 2970, 'Mean Score: 456', color='red', fontweight='bold', style='italic', fontsize=8)\n",
        "plt.xlabel('Score')\n",
        "plt.ylabel('Count');"
      ],
      "metadata": {
        "execution": {
          "iopub.status.busy": "2022-06-02T06:37:44.202327Z",
          "iopub.execute_input": "2022-06-02T06:37:44.203028Z",
          "iopub.status.idle": "2022-06-02T06:37:44.64311Z",
          "shell.execute_reply.started": "2022-06-02T06:37:44.202971Z",
          "shell.execute_reply": "2022-06-02T06:37:44.642105Z"
        },
        "trusted": true,
        "id": "vSlsYTk_6U3Q"
      },
      "outputs": [],
      "execution_count": null
    },
    {
      "cell_type": "code",
      "source": [
        "# Plot Scores Against Probabilities\n",
        "plt.figure(figsize=(20,10))\n",
        "\n",
        "plt.scatter(x=score,\n",
        "            y=valid_data['predict_proba'],\n",
        "            #data=scorecard,\n",
        "            color='#317DC2')\n",
        "\n",
        "plt.title('Scores by Probability', fontweight=\"bold\", fontsize=14)\n",
        "plt.xlabel('Score')\n",
        "plt.ylabel('Probability (Good)');"
      ],
      "metadata": {
        "execution": {
          "iopub.status.busy": "2022-06-02T06:37:44.644919Z",
          "iopub.execute_input": "2022-06-02T06:37:44.645652Z",
          "iopub.status.idle": "2022-06-02T06:37:45.131491Z",
          "shell.execute_reply.started": "2022-06-02T06:37:44.645603Z",
          "shell.execute_reply": "2022-06-02T06:37:45.130507Z"
        },
        "trusted": true,
        "id": "a3c2D_ZS6U3Q"
      },
      "outputs": [],
      "execution_count": null
    },
    {
      "cell_type": "markdown",
      "source": [
        "# **<span style=\"color:#F7B2B0;\">Inference</span>**"
      ],
      "metadata": {
        "id": "qclS1kiv6U3R"
      }
    },
    {
      "cell_type": "code",
      "source": [
        "test_df['prediction'] = scorecard.predict_proba(X_test)[:, 1]\n",
        "sub_df = test_df[['customer_ID', 'prediction']].copy()\n",
        "sub_df.to_csv(\"submission.csv\", index=False)"
      ],
      "metadata": {
        "execution": {
          "iopub.status.busy": "2022-06-02T06:37:45.132719Z",
          "iopub.execute_input": "2022-06-02T06:37:45.133039Z",
          "iopub.status.idle": "2022-06-02T06:37:55.341881Z",
          "shell.execute_reply.started": "2022-06-02T06:37:45.13301Z",
          "shell.execute_reply": "2022-06-02T06:37:55.341033Z"
        },
        "trusted": true,
        "id": "6nrIxjpM6U3S"
      },
      "outputs": [],
      "execution_count": null
    },
    {
      "cell_type": "code",
      "source": [],
      "metadata": {
        "id": "bJHHvEqo6U3S"
      },
      "outputs": [],
      "execution_count": null
    }
  ]
}