{
  "nbformat": 4,
  "nbformat_minor": 0,
  "metadata": {
    "colab": {
      "provenance": [],
      "include_colab_link": true
    },
    "kernelspec": {
      "name": "python3",
      "display_name": "Python 3"
    },
    "language_info": {
      "name": "python"
    }
  },
  "cells": [
    {
      "cell_type": "markdown",
      "metadata": {
        "id": "view-in-github",
        "colab_type": "text"
      },
      "source": [
        "<a href=\"https://colab.research.google.com/github/Zypperman/DBTT_G1_GRP3/blob/prelim_EDA/Notebooks/Usecase_0_0_V1(EDA).ipynb\" target=\"_parent\"><img src=\"https://colab.research.google.com/assets/colab-badge.svg\" alt=\"Open In Colab\"/></a>"
      ]
    },
    {
      "cell_type": "markdown",
      "source": [
        "# EDA + Code adaptation"
      ],
      "metadata": {
        "id": "xgkGkbMfNT7T"
      }
    },
    {
      "cell_type": "markdown",
      "source": [
        "Data obtained from [Kaggle](https://www.kaggle.com/datasets/ajay1735/hmeq-data) -- Home Equity (HMEQ) dataset for Loan Defaulter Prediction.\n",
        "\n",
        "----\n",
        "##### Content obtained from link above\n",
        "----\n",
        "## About Dataset\n",
        "**Context**  \n",
        "The consumer credit department of a bank wants to automate the decision-making process for approval of home equity lines of credit. To do this, they will follow the recommendations of the Equal Credit Opportunity Act to create an empirically derived and statistically sound credit scoring model. The model will be based on data collected from recent applicants granted credit through the current process of loan underwriting. The model will be built from predictive modeling tools, but the created model must be sufficiently interpretable to provide a reason for any adverse actions (rejections).\n",
        "\n",
        "**Content**  \n",
        "The Home Equity dataset (HMEQ) contains baseline and loan performance information for 5,960 recent home equity loans. The target (BAD) is a binary variable indicating whether an applicant eventually defaulted or was seriously delinquent. This adverse outcome occurred in 1,189 cases (20%). For each applicant, 12 input variables were recorded.\n",
        "\n",
        "The data set HMEQ reports characteristics and delinquency information for 5,960 home equity loans. A home equity loan is a loan where the obligor uses the equity of his or her home as the underlying collateral. The data set has the following characteristics:\n",
        "\n",
        "**Data Dictionary**\n",
        "\n",
        "| Variable | Description | Data Type |\n",
        "|------------|------------|------------|\n",
        "| BAD        | 1 = applicant defaulted on loan or seriously delinquent;<br> 0 = applicant paid loan | Binary Nominal (Target Variable)  |\n",
        "| LOAN       | Amount of the loan request                                                                      | Ratio-Scaled Numeric      |\n",
        "| MORTDUE    | Amount due on existing mortgage                                                                 | Ratio-Scaled Numeric      |\n",
        "| VALUE      | Value of current property                                                                      | Ratio-Scaled Numeric      |\n",
        "| REASON     | DebtCon = debt consolidation; <br>HomeImp = home improvement                                        | Nominal                   |\n",
        "| JOB        | Occupational categories                                                                         | Nominal                   |\n",
        "| YOJ        | Years at present job                                                                           | Numeric                   |\n",
        "| DEROG      | Number of major derogatory reports                                                              | Numeric                   |\n",
        "| DELINQ     | Number of delinquent credit lines                                                               | Numeric                   |\n",
        "| CLAGE      | Age of oldest credit line in months                                                             | Numeric                   |\n",
        "| NINQ       | Number of recent credit inquiries                                                               | Numeric                   |\n",
        "| CLNO       | Number of credit lines                                                                          | Numeric                   |\n",
        "| DEBTINC    | Debt-to-income ratio| Ratio-Scaled Numeric      |\n",
        "\n",
        "----\n",
        "\n",
        "## Translations and Assumptions\n",
        "\n",
        "For the Krungsri Katalyst Analytic Dashboard, we make the following assumptions:  \n",
        "- The bank already has a data lake and approximations of the data used in this analysis, either obtained from the loan applications, or compiled from information it already has about each applicant based on existing accounts and lines of credit.\n",
        "- The data required for this model will be updated at frequent intervals, and larger volumes will be used for training in order to provide more robust predictions. For this, a data-pipeline needs to first be built by data engineers.\n",
        "- For the future incorporation of time-series data modelled after the economic state, there also needs to be a robust data-pipeline of both leading and lagging economic indicators provided. This will be supplemented by economists and related personnel by the bank who can make quantitative predictions and provide relevant statistics that are outside the scope of our expertise as consultants.\n",
        "\n",
        "\n",
        "\n"
      ],
      "metadata": {
        "id": "1Pu5fCbVboX6"
      }
    },
    {
      "cell_type": "code",
      "execution_count": 12,
      "metadata": {
        "colab": {
          "base_uri": "https://localhost:8080/"
        },
        "id": "Spd9XE4mbj5d",
        "outputId": "3ffac82c-56dd-43ee-8865-9f73e43bc303"
      },
      "outputs": [
        {
          "output_type": "stream",
          "name": "stdout",
          "text": [
            "Requirement already satisfied: kagglehub in /usr/local/lib/python3.11/dist-packages (0.3.10)\n",
            "Requirement already satisfied: packaging in /usr/local/lib/python3.11/dist-packages (from kagglehub) (24.2)\n",
            "Requirement already satisfied: pyyaml in /usr/local/lib/python3.11/dist-packages (from kagglehub) (6.0.2)\n",
            "Requirement already satisfied: requests in /usr/local/lib/python3.11/dist-packages (from kagglehub) (2.32.3)\n",
            "Requirement already satisfied: tqdm in /usr/local/lib/python3.11/dist-packages (from kagglehub) (4.67.1)\n",
            "Requirement already satisfied: charset-normalizer<4,>=2 in /usr/local/lib/python3.11/dist-packages (from requests->kagglehub) (3.4.1)\n",
            "Requirement already satisfied: idna<4,>=2.5 in /usr/local/lib/python3.11/dist-packages (from requests->kagglehub) (3.10)\n",
            "Requirement already satisfied: urllib3<3,>=1.21.1 in /usr/local/lib/python3.11/dist-packages (from requests->kagglehub) (2.3.0)\n",
            "Requirement already satisfied: certifi>=2017.4.17 in /usr/local/lib/python3.11/dist-packages (from requests->kagglehub) (2025.1.31)\n",
            "Requirement already satisfied: kagglehub[pandas-datasets] in /usr/local/lib/python3.11/dist-packages (0.3.10)\n",
            "Requirement already satisfied: packaging in /usr/local/lib/python3.11/dist-packages (from kagglehub[pandas-datasets]) (24.2)\n",
            "Requirement already satisfied: pyyaml in /usr/local/lib/python3.11/dist-packages (from kagglehub[pandas-datasets]) (6.0.2)\n",
            "Requirement already satisfied: requests in /usr/local/lib/python3.11/dist-packages (from kagglehub[pandas-datasets]) (2.32.3)\n",
            "Requirement already satisfied: tqdm in /usr/local/lib/python3.11/dist-packages (from kagglehub[pandas-datasets]) (4.67.1)\n",
            "Requirement already satisfied: pandas in /usr/local/lib/python3.11/dist-packages (from kagglehub[pandas-datasets]) (2.2.2)\n",
            "Requirement already satisfied: numpy>=1.23.2 in /usr/local/lib/python3.11/dist-packages (from pandas->kagglehub[pandas-datasets]) (2.0.2)\n",
            "Requirement already satisfied: python-dateutil>=2.8.2 in /usr/local/lib/python3.11/dist-packages (from pandas->kagglehub[pandas-datasets]) (2.8.2)\n",
            "Requirement already satisfied: pytz>=2020.1 in /usr/local/lib/python3.11/dist-packages (from pandas->kagglehub[pandas-datasets]) (2025.1)\n",
            "Requirement already satisfied: tzdata>=2022.7 in /usr/local/lib/python3.11/dist-packages (from pandas->kagglehub[pandas-datasets]) (2025.1)\n",
            "Requirement already satisfied: charset-normalizer<4,>=2 in /usr/local/lib/python3.11/dist-packages (from requests->kagglehub[pandas-datasets]) (3.4.1)\n",
            "Requirement already satisfied: idna<4,>=2.5 in /usr/local/lib/python3.11/dist-packages (from requests->kagglehub[pandas-datasets]) (3.10)\n",
            "Requirement already satisfied: urllib3<3,>=1.21.1 in /usr/local/lib/python3.11/dist-packages (from requests->kagglehub[pandas-datasets]) (2.3.0)\n",
            "Requirement already satisfied: certifi>=2017.4.17 in /usr/local/lib/python3.11/dist-packages (from requests->kagglehub[pandas-datasets]) (2025.1.31)\n",
            "Requirement already satisfied: six>=1.5 in /usr/local/lib/python3.11/dist-packages (from python-dateutil>=2.8.2->pandas->kagglehub[pandas-datasets]) (1.17.0)\n",
            "Requirement already satisfied: scikit-learn in /usr/local/lib/python3.11/dist-packages (1.6.1)\n",
            "Requirement already satisfied: numpy>=1.19.5 in /usr/local/lib/python3.11/dist-packages (from scikit-learn) (2.0.2)\n",
            "Requirement already satisfied: scipy>=1.6.0 in /usr/local/lib/python3.11/dist-packages (from scikit-learn) (1.14.1)\n",
            "Requirement already satisfied: joblib>=1.2.0 in /usr/local/lib/python3.11/dist-packages (from scikit-learn) (1.4.2)\n",
            "Requirement already satisfied: threadpoolctl>=3.1.0 in /usr/local/lib/python3.11/dist-packages (from scikit-learn) (3.6.0)\n"
          ]
        }
      ],
      "source": [
        "!pip install kagglehub\n",
        "!pip install kagglehub[pandas-datasets]\n",
        "!pip install scikit-learn"
      ]
    },
    {
      "cell_type": "code",
      "source": [
        "import pandas as pd\n",
        "import numpy as np\n",
        "from sklearn.preprocessing import *\n",
        "import seaborn as sns\n",
        "import matplotlib.pyplot as plt\n",
        "from sklearn.model_selection import train_test_split\n",
        "from sklearn.tree import DecisionTreeClassifier\n",
        "from sklearn.ensemble import RandomForestClassifier, AdaBoostClassifier, ExtraTreesClassifier, GradientBoostingClassifier\n",
        "from sklearn.discriminant_analysis import LinearDiscriminantAnalysis, QuadraticDiscriminantAnalysis\n",
        "from sklearn.metrics import accuracy_score, log_loss\n",
        "from sklearn.neighbors import KNeighborsClassifier\n",
        "from sklearn.linear_model import LogisticRegression\n",
        "from sklearn.decomposition import PCA\n",
        "from sklearn.preprocessing import StandardScaler, RobustScaler\n",
        "from sklearn.naive_bayes import GaussianNB\n",
        "import statsmodels.api as sm\n",
        "from scipy.stats import probplot\n",
        "from sklearn import metrics\n",
        "from sklearn import preprocessing\n",
        "from sklearn import utils\n",
        "from sklearn.metrics import mean_absolute_error\n",
        "from statistics import mean, stdev\n",
        "from sklearn.metrics import f1_score\n",
        "from sklearn.metrics import classification_report\n",
        "from sklearn.metrics import accuracy_score, roc_curve, auc, confusion_matrix, ConfusionMatrixDisplay\n",
        "from sklearn.model_selection import KFold, cross_val_score, cross_validate, StratifiedKFold\n",
        "from sklearn.svm import SVC\n",
        "from sklearn.feature_selection import chi2\n",
        "from sklearn.feature_selection import SelectKBest"
      ],
      "metadata": {
        "id": "ttbC1tmNMIXc"
      },
      "execution_count": 20,
      "outputs": []
    },
    {
      "cell_type": "code",
      "source": [
        "from genericpath import exists\n",
        "# kaggle api key, please use your own to download the data\n",
        "KAGGLE_USERNAME = 'zypperman'\n",
        "KAGGLE_KEY = '084281dba0d0e6614a17ee1d7284235d'\n",
        "DATA_FILEPATH = './kaggle/working/'\n",
        "\n",
        "import kagglehub\n",
        "from kagglehub import KaggleDatasetAdapter\n",
        "import os\n",
        "\n",
        "file_path =  'hmeq.csv' # referring to filepath in data source\n",
        "\n",
        "# Set the Kaggle API credentials\n",
        "os.environ['KAGGLE_USERNAME'] = KAGGLE_USERNAME\n",
        "os.environ['KAGGLE_KEY'] = KAGGLE_KEY\n",
        "\n",
        "# Load the latest version\n",
        "data = kagglehub.dataset_load(\n",
        "  KaggleDatasetAdapter.PANDAS,\n",
        "  \"ajay1735/hmeq-data\",\n",
        "  file_path,\n",
        ")\n",
        "# save raw data locally\n",
        "os.makedirs(DATA_FILEPATH,exist_ok=True)\n",
        "data.to_csv(DATA_FILEPATH+'hmeq.csv')"
      ],
      "metadata": {
        "id": "Grf0mEXocHca",
        "colab": {
          "base_uri": "https://localhost:8080/"
        },
        "outputId": "dfa36843-c281-47f8-f309-e2d3c6a0dbb4"
      },
      "execution_count": 16,
      "outputs": [
        {
          "output_type": "stream",
          "name": "stdout",
          "text": [
            "First 5 records:\n",
            "    BAD  LOAN  MORTDUE     VALUE   REASON     JOB   YOJ  DEROG  DELINQ  \\\n",
            "0    1  1100  25860.0   39025.0  HomeImp   Other  10.5    0.0     0.0   \n",
            "1    1  1300  70053.0   68400.0  HomeImp   Other   7.0    0.0     2.0   \n",
            "2    1  1500  13500.0   16700.0  HomeImp   Other   4.0    0.0     0.0   \n",
            "3    1  1500      NaN       NaN      NaN     NaN   NaN    NaN     NaN   \n",
            "4    0  1700  97800.0  112000.0  HomeImp  Office   3.0    0.0     0.0   \n",
            "\n",
            "        CLAGE  NINQ  CLNO  DEBTINC  \n",
            "0   94.366667   1.0   9.0      NaN  \n",
            "1  121.833333   0.0  14.0      NaN  \n",
            "2  149.466667   1.0  10.0      NaN  \n",
            "3         NaN   NaN   NaN      NaN  \n",
            "4   93.333333   0.0  14.0      NaN  \n"
          ]
        }
      ]
    },
    {
      "cell_type": "markdown",
      "source": [
        "## Intro remarks\n",
        "- dataset seems to be on US clients, given the policy mentioned for where this data was obtained from (Equal Credit Opportunity Act)"
      ],
      "metadata": {
        "id": "JLBKFokuO9XI"
      }
    },
    {
      "cell_type": "markdown",
      "source": [
        "## Basic Data exploration"
      ],
      "metadata": {
        "id": "L9WpxPVeIscY"
      }
    },
    {
      "cell_type": "markdown",
      "source": [
        "First, we will assess the nature of the data we are dealing with."
      ],
      "metadata": {
        "id": "mg0vLJvuIyj6"
      }
    },
    {
      "cell_type": "code",
      "source": [
        "print(\"sample of 5 records:\")\n",
        "data.sample(n=5).head()"
      ],
      "metadata": {
        "colab": {
          "base_uri": "https://localhost:8080/",
          "height": 223
        },
        "id": "MBQNbKLdPC2M",
        "outputId": "84316487-1c91-48fb-9ae5-02c9b2395779"
      },
      "execution_count": 18,
      "outputs": [
        {
          "output_type": "stream",
          "name": "stdout",
          "text": [
            "sample of 5 records:\n"
          ]
        },
        {
          "output_type": "execute_result",
          "data": {
            "text/plain": [
              "      BAD   LOAN   MORTDUE     VALUE   REASON      JOB   YOJ  DEROG  DELINQ  \\\n",
              "5312    0  29800  225481.0  290762.0  DebtCon  ProfExe  13.0    0.0     1.0   \n",
              "1892    0  12500   55228.0   66569.0  DebtCon      Mgr   3.0    0.0     0.0   \n",
              "1917    0  12600  100590.0  138649.0  HomeImp  ProfExe  14.0    0.0     0.0   \n",
              "4523    0  23600   69846.0  189234.0      NaN    Other  11.0    0.0     0.0   \n",
              "2295    0  13900   48110.0   63601.0  DebtCon  ProfExe   5.0    0.0     0.0   \n",
              "\n",
              "           CLAGE  NINQ  CLNO    DEBTINC  \n",
              "5312  239.321631   1.0  26.0  24.777985  \n",
              "1892  198.815167   1.0  17.0  27.996873  \n",
              "1917  138.164705   4.0  22.0  34.598727  \n",
              "4523  357.805062   0.0  17.0  30.564280  \n",
              "2295  153.735399   1.0  12.0  29.964687  "
            ],
            "text/html": [
              "\n",
              "  <div id=\"df-9bae52f3-79c2-4eb8-bc5b-9e776264dc74\" class=\"colab-df-container\">\n",
              "    <div>\n",
              "<style scoped>\n",
              "    .dataframe tbody tr th:only-of-type {\n",
              "        vertical-align: middle;\n",
              "    }\n",
              "\n",
              "    .dataframe tbody tr th {\n",
              "        vertical-align: top;\n",
              "    }\n",
              "\n",
              "    .dataframe thead th {\n",
              "        text-align: right;\n",
              "    }\n",
              "</style>\n",
              "<table border=\"1\" class=\"dataframe\">\n",
              "  <thead>\n",
              "    <tr style=\"text-align: right;\">\n",
              "      <th></th>\n",
              "      <th>BAD</th>\n",
              "      <th>LOAN</th>\n",
              "      <th>MORTDUE</th>\n",
              "      <th>VALUE</th>\n",
              "      <th>REASON</th>\n",
              "      <th>JOB</th>\n",
              "      <th>YOJ</th>\n",
              "      <th>DEROG</th>\n",
              "      <th>DELINQ</th>\n",
              "      <th>CLAGE</th>\n",
              "      <th>NINQ</th>\n",
              "      <th>CLNO</th>\n",
              "      <th>DEBTINC</th>\n",
              "    </tr>\n",
              "  </thead>\n",
              "  <tbody>\n",
              "    <tr>\n",
              "      <th>5312</th>\n",
              "      <td>0</td>\n",
              "      <td>29800</td>\n",
              "      <td>225481.0</td>\n",
              "      <td>290762.0</td>\n",
              "      <td>DebtCon</td>\n",
              "      <td>ProfExe</td>\n",
              "      <td>13.0</td>\n",
              "      <td>0.0</td>\n",
              "      <td>1.0</td>\n",
              "      <td>239.321631</td>\n",
              "      <td>1.0</td>\n",
              "      <td>26.0</td>\n",
              "      <td>24.777985</td>\n",
              "    </tr>\n",
              "    <tr>\n",
              "      <th>1892</th>\n",
              "      <td>0</td>\n",
              "      <td>12500</td>\n",
              "      <td>55228.0</td>\n",
              "      <td>66569.0</td>\n",
              "      <td>DebtCon</td>\n",
              "      <td>Mgr</td>\n",
              "      <td>3.0</td>\n",
              "      <td>0.0</td>\n",
              "      <td>0.0</td>\n",
              "      <td>198.815167</td>\n",
              "      <td>1.0</td>\n",
              "      <td>17.0</td>\n",
              "      <td>27.996873</td>\n",
              "    </tr>\n",
              "    <tr>\n",
              "      <th>1917</th>\n",
              "      <td>0</td>\n",
              "      <td>12600</td>\n",
              "      <td>100590.0</td>\n",
              "      <td>138649.0</td>\n",
              "      <td>HomeImp</td>\n",
              "      <td>ProfExe</td>\n",
              "      <td>14.0</td>\n",
              "      <td>0.0</td>\n",
              "      <td>0.0</td>\n",
              "      <td>138.164705</td>\n",
              "      <td>4.0</td>\n",
              "      <td>22.0</td>\n",
              "      <td>34.598727</td>\n",
              "    </tr>\n",
              "    <tr>\n",
              "      <th>4523</th>\n",
              "      <td>0</td>\n",
              "      <td>23600</td>\n",
              "      <td>69846.0</td>\n",
              "      <td>189234.0</td>\n",
              "      <td>NaN</td>\n",
              "      <td>Other</td>\n",
              "      <td>11.0</td>\n",
              "      <td>0.0</td>\n",
              "      <td>0.0</td>\n",
              "      <td>357.805062</td>\n",
              "      <td>0.0</td>\n",
              "      <td>17.0</td>\n",
              "      <td>30.564280</td>\n",
              "    </tr>\n",
              "    <tr>\n",
              "      <th>2295</th>\n",
              "      <td>0</td>\n",
              "      <td>13900</td>\n",
              "      <td>48110.0</td>\n",
              "      <td>63601.0</td>\n",
              "      <td>DebtCon</td>\n",
              "      <td>ProfExe</td>\n",
              "      <td>5.0</td>\n",
              "      <td>0.0</td>\n",
              "      <td>0.0</td>\n",
              "      <td>153.735399</td>\n",
              "      <td>1.0</td>\n",
              "      <td>12.0</td>\n",
              "      <td>29.964687</td>\n",
              "    </tr>\n",
              "  </tbody>\n",
              "</table>\n",
              "</div>\n",
              "    <div class=\"colab-df-buttons\">\n",
              "\n",
              "  <div class=\"colab-df-container\">\n",
              "    <button class=\"colab-df-convert\" onclick=\"convertToInteractive('df-9bae52f3-79c2-4eb8-bc5b-9e776264dc74')\"\n",
              "            title=\"Convert this dataframe to an interactive table.\"\n",
              "            style=\"display:none;\">\n",
              "\n",
              "  <svg xmlns=\"http://www.w3.org/2000/svg\" height=\"24px\" viewBox=\"0 -960 960 960\">\n",
              "    <path d=\"M120-120v-720h720v720H120Zm60-500h600v-160H180v160Zm220 220h160v-160H400v160Zm0 220h160v-160H400v160ZM180-400h160v-160H180v160Zm440 0h160v-160H620v160ZM180-180h160v-160H180v160Zm440 0h160v-160H620v160Z\"/>\n",
              "  </svg>\n",
              "    </button>\n",
              "\n",
              "  <style>\n",
              "    .colab-df-container {\n",
              "      display:flex;\n",
              "      gap: 12px;\n",
              "    }\n",
              "\n",
              "    .colab-df-convert {\n",
              "      background-color: #E8F0FE;\n",
              "      border: none;\n",
              "      border-radius: 50%;\n",
              "      cursor: pointer;\n",
              "      display: none;\n",
              "      fill: #1967D2;\n",
              "      height: 32px;\n",
              "      padding: 0 0 0 0;\n",
              "      width: 32px;\n",
              "    }\n",
              "\n",
              "    .colab-df-convert:hover {\n",
              "      background-color: #E2EBFA;\n",
              "      box-shadow: 0px 1px 2px rgba(60, 64, 67, 0.3), 0px 1px 3px 1px rgba(60, 64, 67, 0.15);\n",
              "      fill: #174EA6;\n",
              "    }\n",
              "\n",
              "    .colab-df-buttons div {\n",
              "      margin-bottom: 4px;\n",
              "    }\n",
              "\n",
              "    [theme=dark] .colab-df-convert {\n",
              "      background-color: #3B4455;\n",
              "      fill: #D2E3FC;\n",
              "    }\n",
              "\n",
              "    [theme=dark] .colab-df-convert:hover {\n",
              "      background-color: #434B5C;\n",
              "      box-shadow: 0px 1px 3px 1px rgba(0, 0, 0, 0.15);\n",
              "      filter: drop-shadow(0px 1px 2px rgba(0, 0, 0, 0.3));\n",
              "      fill: #FFFFFF;\n",
              "    }\n",
              "  </style>\n",
              "\n",
              "    <script>\n",
              "      const buttonEl =\n",
              "        document.querySelector('#df-9bae52f3-79c2-4eb8-bc5b-9e776264dc74 button.colab-df-convert');\n",
              "      buttonEl.style.display =\n",
              "        google.colab.kernel.accessAllowed ? 'block' : 'none';\n",
              "\n",
              "      async function convertToInteractive(key) {\n",
              "        const element = document.querySelector('#df-9bae52f3-79c2-4eb8-bc5b-9e776264dc74');\n",
              "        const dataTable =\n",
              "          await google.colab.kernel.invokeFunction('convertToInteractive',\n",
              "                                                    [key], {});\n",
              "        if (!dataTable) return;\n",
              "\n",
              "        const docLinkHtml = 'Like what you see? Visit the ' +\n",
              "          '<a target=\"_blank\" href=https://colab.research.google.com/notebooks/data_table.ipynb>data table notebook</a>'\n",
              "          + ' to learn more about interactive tables.';\n",
              "        element.innerHTML = '';\n",
              "        dataTable['output_type'] = 'display_data';\n",
              "        await google.colab.output.renderOutput(dataTable, element);\n",
              "        const docLink = document.createElement('div');\n",
              "        docLink.innerHTML = docLinkHtml;\n",
              "        element.appendChild(docLink);\n",
              "      }\n",
              "    </script>\n",
              "  </div>\n",
              "\n",
              "\n",
              "<div id=\"df-0b4fb590-e81c-45fc-9a19-355d56acb12f\">\n",
              "  <button class=\"colab-df-quickchart\" onclick=\"quickchart('df-0b4fb590-e81c-45fc-9a19-355d56acb12f')\"\n",
              "            title=\"Suggest charts\"\n",
              "            style=\"display:none;\">\n",
              "\n",
              "<svg xmlns=\"http://www.w3.org/2000/svg\" height=\"24px\"viewBox=\"0 0 24 24\"\n",
              "     width=\"24px\">\n",
              "    <g>\n",
              "        <path d=\"M19 3H5c-1.1 0-2 .9-2 2v14c0 1.1.9 2 2 2h14c1.1 0 2-.9 2-2V5c0-1.1-.9-2-2-2zM9 17H7v-7h2v7zm4 0h-2V7h2v10zm4 0h-2v-4h2v4z\"/>\n",
              "    </g>\n",
              "</svg>\n",
              "  </button>\n",
              "\n",
              "<style>\n",
              "  .colab-df-quickchart {\n",
              "      --bg-color: #E8F0FE;\n",
              "      --fill-color: #1967D2;\n",
              "      --hover-bg-color: #E2EBFA;\n",
              "      --hover-fill-color: #174EA6;\n",
              "      --disabled-fill-color: #AAA;\n",
              "      --disabled-bg-color: #DDD;\n",
              "  }\n",
              "\n",
              "  [theme=dark] .colab-df-quickchart {\n",
              "      --bg-color: #3B4455;\n",
              "      --fill-color: #D2E3FC;\n",
              "      --hover-bg-color: #434B5C;\n",
              "      --hover-fill-color: #FFFFFF;\n",
              "      --disabled-bg-color: #3B4455;\n",
              "      --disabled-fill-color: #666;\n",
              "  }\n",
              "\n",
              "  .colab-df-quickchart {\n",
              "    background-color: var(--bg-color);\n",
              "    border: none;\n",
              "    border-radius: 50%;\n",
              "    cursor: pointer;\n",
              "    display: none;\n",
              "    fill: var(--fill-color);\n",
              "    height: 32px;\n",
              "    padding: 0;\n",
              "    width: 32px;\n",
              "  }\n",
              "\n",
              "  .colab-df-quickchart:hover {\n",
              "    background-color: var(--hover-bg-color);\n",
              "    box-shadow: 0 1px 2px rgba(60, 64, 67, 0.3), 0 1px 3px 1px rgba(60, 64, 67, 0.15);\n",
              "    fill: var(--button-hover-fill-color);\n",
              "  }\n",
              "\n",
              "  .colab-df-quickchart-complete:disabled,\n",
              "  .colab-df-quickchart-complete:disabled:hover {\n",
              "    background-color: var(--disabled-bg-color);\n",
              "    fill: var(--disabled-fill-color);\n",
              "    box-shadow: none;\n",
              "  }\n",
              "\n",
              "  .colab-df-spinner {\n",
              "    border: 2px solid var(--fill-color);\n",
              "    border-color: transparent;\n",
              "    border-bottom-color: var(--fill-color);\n",
              "    animation:\n",
              "      spin 1s steps(1) infinite;\n",
              "  }\n",
              "\n",
              "  @keyframes spin {\n",
              "    0% {\n",
              "      border-color: transparent;\n",
              "      border-bottom-color: var(--fill-color);\n",
              "      border-left-color: var(--fill-color);\n",
              "    }\n",
              "    20% {\n",
              "      border-color: transparent;\n",
              "      border-left-color: var(--fill-color);\n",
              "      border-top-color: var(--fill-color);\n",
              "    }\n",
              "    30% {\n",
              "      border-color: transparent;\n",
              "      border-left-color: var(--fill-color);\n",
              "      border-top-color: var(--fill-color);\n",
              "      border-right-color: var(--fill-color);\n",
              "    }\n",
              "    40% {\n",
              "      border-color: transparent;\n",
              "      border-right-color: var(--fill-color);\n",
              "      border-top-color: var(--fill-color);\n",
              "    }\n",
              "    60% {\n",
              "      border-color: transparent;\n",
              "      border-right-color: var(--fill-color);\n",
              "    }\n",
              "    80% {\n",
              "      border-color: transparent;\n",
              "      border-right-color: var(--fill-color);\n",
              "      border-bottom-color: var(--fill-color);\n",
              "    }\n",
              "    90% {\n",
              "      border-color: transparent;\n",
              "      border-bottom-color: var(--fill-color);\n",
              "    }\n",
              "  }\n",
              "</style>\n",
              "\n",
              "  <script>\n",
              "    async function quickchart(key) {\n",
              "      const quickchartButtonEl =\n",
              "        document.querySelector('#' + key + ' button');\n",
              "      quickchartButtonEl.disabled = true;  // To prevent multiple clicks.\n",
              "      quickchartButtonEl.classList.add('colab-df-spinner');\n",
              "      try {\n",
              "        const charts = await google.colab.kernel.invokeFunction(\n",
              "            'suggestCharts', [key], {});\n",
              "      } catch (error) {\n",
              "        console.error('Error during call to suggestCharts:', error);\n",
              "      }\n",
              "      quickchartButtonEl.classList.remove('colab-df-spinner');\n",
              "      quickchartButtonEl.classList.add('colab-df-quickchart-complete');\n",
              "    }\n",
              "    (() => {\n",
              "      let quickchartButtonEl =\n",
              "        document.querySelector('#df-0b4fb590-e81c-45fc-9a19-355d56acb12f button');\n",
              "      quickchartButtonEl.style.display =\n",
              "        google.colab.kernel.accessAllowed ? 'block' : 'none';\n",
              "    })();\n",
              "  </script>\n",
              "</div>\n",
              "\n",
              "    </div>\n",
              "  </div>\n"
            ],
            "application/vnd.google.colaboratory.intrinsic+json": {
              "type": "dataframe",
              "summary": "{\n  \"name\": \"data\",\n  \"rows\": 5,\n  \"fields\": [\n    {\n      \"column\": \"BAD\",\n      \"properties\": {\n        \"dtype\": \"number\",\n        \"std\": 0,\n        \"min\": 0,\n        \"max\": 0,\n        \"num_unique_values\": 1,\n        \"samples\": [\n          0\n        ],\n        \"semantic_type\": \"\",\n        \"description\": \"\"\n      }\n    },\n    {\n      \"column\": \"LOAN\",\n      \"properties\": {\n        \"dtype\": \"number\",\n        \"std\": 7836,\n        \"min\": 12500,\n        \"max\": 29800,\n        \"num_unique_values\": 5,\n        \"samples\": [\n          12500\n        ],\n        \"semantic_type\": \"\",\n        \"description\": \"\"\n      }\n    },\n    {\n      \"column\": \"MORTDUE\",\n      \"properties\": {\n        \"dtype\": \"number\",\n        \"std\": 73061.76540434812,\n        \"min\": 48110.0,\n        \"max\": 225481.0,\n        \"num_unique_values\": 5,\n        \"samples\": [\n          55228.0\n        ],\n        \"semantic_type\": \"\",\n        \"description\": \"\"\n      }\n    },\n    {\n      \"column\": \"VALUE\",\n      \"properties\": {\n        \"dtype\": \"number\",\n        \"std\": 94746.14862621066,\n        \"min\": 63601.0,\n        \"max\": 290762.0,\n        \"num_unique_values\": 5,\n        \"samples\": [\n          66569.0\n        ],\n        \"semantic_type\": \"\",\n        \"description\": \"\"\n      }\n    },\n    {\n      \"column\": \"REASON\",\n      \"properties\": {\n        \"dtype\": \"category\",\n        \"num_unique_values\": 2,\n        \"samples\": [\n          \"HomeImp\"\n        ],\n        \"semantic_type\": \"\",\n        \"description\": \"\"\n      }\n    },\n    {\n      \"column\": \"JOB\",\n      \"properties\": {\n        \"dtype\": \"string\",\n        \"num_unique_values\": 3,\n        \"samples\": [\n          \"ProfExe\"\n        ],\n        \"semantic_type\": \"\",\n        \"description\": \"\"\n      }\n    },\n    {\n      \"column\": \"YOJ\",\n      \"properties\": {\n        \"dtype\": \"number\",\n        \"std\": 4.919349550499538,\n        \"min\": 3.0,\n        \"max\": 14.0,\n        \"num_unique_values\": 5,\n        \"samples\": [\n          3.0\n        ],\n        \"semantic_type\": \"\",\n        \"description\": \"\"\n      }\n    },\n    {\n      \"column\": \"DEROG\",\n      \"properties\": {\n        \"dtype\": \"number\",\n        \"std\": 0.0,\n        \"min\": 0.0,\n        \"max\": 0.0,\n        \"num_unique_values\": 1,\n        \"samples\": [\n          0.0\n        ],\n        \"semantic_type\": \"\",\n        \"description\": \"\"\n      }\n    },\n    {\n      \"column\": \"DELINQ\",\n      \"properties\": {\n        \"dtype\": \"number\",\n        \"std\": 0.44721359549995804,\n        \"min\": 0.0,\n        \"max\": 1.0,\n        \"num_unique_values\": 2,\n        \"samples\": [\n          0.0\n        ],\n        \"semantic_type\": \"\",\n        \"description\": \"\"\n      }\n    },\n    {\n      \"column\": \"CLAGE\",\n      \"properties\": {\n        \"dtype\": \"number\",\n        \"std\": 87.85045107990341,\n        \"min\": 138.16470464,\n        \"max\": 357.8050619,\n        \"num_unique_values\": 5,\n        \"samples\": [\n          198.81516721\n        ],\n        \"semantic_type\": \"\",\n        \"description\": \"\"\n      }\n    },\n    {\n      \"column\": \"NINQ\",\n      \"properties\": {\n        \"dtype\": \"number\",\n        \"std\": 1.51657508881031,\n        \"min\": 0.0,\n        \"max\": 4.0,\n        \"num_unique_values\": 3,\n        \"samples\": [\n          1.0\n        ],\n        \"semantic_type\": \"\",\n        \"description\": \"\"\n      }\n    },\n    {\n      \"column\": \"CLNO\",\n      \"properties\": {\n        \"dtype\": \"number\",\n        \"std\": 5.357238094391549,\n        \"min\": 12.0,\n        \"max\": 26.0,\n        \"num_unique_values\": 4,\n        \"samples\": [\n          17.0\n        ],\n        \"semantic_type\": \"\",\n        \"description\": \"\"\n      }\n    },\n    {\n      \"column\": \"DEBTINC\",\n      \"properties\": {\n        \"dtype\": \"number\",\n        \"std\": 3.6010433028670894,\n        \"min\": 24.77798542,\n        \"max\": 34.598727401,\n        \"num_unique_values\": 5,\n        \"samples\": [\n          27.996872759\n        ],\n        \"semantic_type\": \"\",\n        \"description\": \"\"\n      }\n    }\n  ]\n}"
            }
          },
          "metadata": {},
          "execution_count": 18
        }
      ]
    },
    {
      "cell_type": "markdown",
      "source": [
        "Next, we will assess 3 elements to the data:\n",
        "1. the number of rows there are\n",
        "2. the specific name, data-type and number of null values we are dealing with\n",
        "3. some basic statistics describing the data\n",
        "  \n",
        "These can be obtained using some simple methods."
      ],
      "metadata": {
        "id": "QiQo5JkkK_AM"
      }
    },
    {
      "cell_type": "code",
      "source": [
        "print(f\"The Data has {data.shape[0]} rows and {data.shape[1]} columns.\")\n",
        "print(\"-\"*35,\"DATA INFO\",\"-\"*35,'\\n')\n",
        "print(data.info)\n",
        "print(\"-\"*35,\"BASIC STATS\",\"-\"*35,'\\n')\n",
        "print(data.describe())"
      ],
      "metadata": {
        "id": "Duzs9OvNTZ-H",
        "colab": {
          "base_uri": "https://localhost:8080/"
        },
        "outputId": "1132bf24-ba41-460b-bc7e-a84e011fa837"
      },
      "execution_count": 19,
      "outputs": [
        {
          "output_type": "stream",
          "name": "stdout",
          "text": [
            "The Data has 5960 rows and 13 columns.\n",
            "----------------------------------- DATA INFO ----------------------------------- \n",
            "\n",
            "<bound method DataFrame.info of       BAD   LOAN  MORTDUE     VALUE   REASON     JOB   YOJ  DEROG  DELINQ  \\\n",
            "0       1   1100  25860.0   39025.0  HomeImp   Other  10.5    0.0     0.0   \n",
            "1       1   1300  70053.0   68400.0  HomeImp   Other   7.0    0.0     2.0   \n",
            "2       1   1500  13500.0   16700.0  HomeImp   Other   4.0    0.0     0.0   \n",
            "3       1   1500      NaN       NaN      NaN     NaN   NaN    NaN     NaN   \n",
            "4       0   1700  97800.0  112000.0  HomeImp  Office   3.0    0.0     0.0   \n",
            "...   ...    ...      ...       ...      ...     ...   ...    ...     ...   \n",
            "5955    0  88900  57264.0   90185.0  DebtCon   Other  16.0    0.0     0.0   \n",
            "5956    0  89000  54576.0   92937.0  DebtCon   Other  16.0    0.0     0.0   \n",
            "5957    0  89200  54045.0   92924.0  DebtCon   Other  15.0    0.0     0.0   \n",
            "5958    0  89800  50370.0   91861.0  DebtCon   Other  14.0    0.0     0.0   \n",
            "5959    0  89900  48811.0   88934.0  DebtCon   Other  15.0    0.0     0.0   \n",
            "\n",
            "           CLAGE  NINQ  CLNO    DEBTINC  \n",
            "0      94.366667   1.0   9.0        NaN  \n",
            "1     121.833333   0.0  14.0        NaN  \n",
            "2     149.466667   1.0  10.0        NaN  \n",
            "3            NaN   NaN   NaN        NaN  \n",
            "4      93.333333   0.0  14.0        NaN  \n",
            "...          ...   ...   ...        ...  \n",
            "5955  221.808718   0.0  16.0  36.112347  \n",
            "5956  208.692070   0.0  15.0  35.859971  \n",
            "5957  212.279697   0.0  15.0  35.556590  \n",
            "5958  213.892709   0.0  16.0  34.340882  \n",
            "5959  219.601002   0.0  16.0  34.571519  \n",
            "\n",
            "[5960 rows x 13 columns]>\n",
            "----------------------------------- BASIC STATS ----------------------------------- \n",
            "\n",
            "               BAD          LOAN        MORTDUE          VALUE          YOJ  \\\n",
            "count  5960.000000   5960.000000    5442.000000    5848.000000  5445.000000   \n",
            "mean      0.199497  18607.969799   73760.817200  101776.048741     8.922268   \n",
            "std       0.399656  11207.480417   44457.609458   57385.775334     7.573982   \n",
            "min       0.000000   1100.000000    2063.000000    8000.000000     0.000000   \n",
            "25%       0.000000  11100.000000   46276.000000   66075.500000     3.000000   \n",
            "50%       0.000000  16300.000000   65019.000000   89235.500000     7.000000   \n",
            "75%       0.000000  23300.000000   91488.000000  119824.250000    13.000000   \n",
            "max       1.000000  89900.000000  399550.000000  855909.000000    41.000000   \n",
            "\n",
            "             DEROG       DELINQ        CLAGE         NINQ         CLNO  \\\n",
            "count  5252.000000  5380.000000  5652.000000  5450.000000  5738.000000   \n",
            "mean      0.254570     0.449442   179.766275     1.186055    21.296096   \n",
            "std       0.846047     1.127266    85.810092     1.728675    10.138933   \n",
            "min       0.000000     0.000000     0.000000     0.000000     0.000000   \n",
            "25%       0.000000     0.000000   115.116702     0.000000    15.000000   \n",
            "50%       0.000000     0.000000   173.466667     1.000000    20.000000   \n",
            "75%       0.000000     0.000000   231.562278     2.000000    26.000000   \n",
            "max      10.000000    15.000000  1168.233561    17.000000    71.000000   \n",
            "\n",
            "           DEBTINC  \n",
            "count  4693.000000  \n",
            "mean     33.779915  \n",
            "std       8.601746  \n",
            "min       0.524499  \n",
            "25%      29.140031  \n",
            "50%      34.818262  \n",
            "75%      39.003141  \n",
            "max     203.312149  \n"
          ]
        }
      ]
    },
    {
      "cell_type": "markdown",
      "source": [
        "# Handling outliers , missing values and visualising data\n"
      ],
      "metadata": {
        "id": "IT7rcXMdL_EY"
      }
    },
    {
      "cell_type": "markdown",
      "source": [
        "We initialize the background for our visualisations:"
      ],
      "metadata": {
        "id": "ELtQTvxwNIyf"
      }
    },
    {
      "cell_type": "code",
      "source": [
        "sns.set(style=\"whitegrid\")\n",
        "# plt.style.use('white')\n",
        "plt.rcParams.update({\"grid.linewidth\":0.5, \"grid.alpha\":0.5})\n",
        "colormap = sns.diverging_palette(220, 10, as_cmap=True)"
      ],
      "metadata": {
        "id": "mrJTPA8bLoGk"
      },
      "execution_count": 21,
      "outputs": []
    },
    {
      "cell_type": "markdown",
      "source": [
        "Visualising missing rows in our data:"
      ],
      "metadata": {
        "id": "3gSk7ZWdNNqi"
      }
    },
    {
      "cell_type": "code",
      "source": [
        "sns.heatmap(data.isnull(),cbar=False,yticklabels=False,cmap = 'viridis')\n",
        "\n",
        "has_null = round(data.count() / data.shape[0],2) != 1 #condition assigned to variable\n",
        "dataset_empty_columns = data.columns[has_null]\n",
        "\n",
        "# get rows with empty datasets\n",
        "dataset_empty_row_freq = pd.DataFrame([])\n",
        "dataset_empty_row_freq['incomplete_rows'] = data.shape[0] - data.count()\n",
        "# remove rows with no missing values\n",
        "dataset_empty_row_freq = dataset_empty_row_freq[dataset_empty_row_freq['incomplete_rows'] > 0]\n",
        "\n",
        "dataset_empty_row_freq['percentage_incomplete'] = dataset_empty_row_freq['incomplete_rows'] / data.shape[0] * 100\n",
        "\n",
        "if missing_cells := sum(dataset_empty_row_freq['incomplete_rows']):\n",
        "\n",
        "    print(\"The columns with missing values are:\", \", \".join(\"\\\"\" + i + \"\\\"\" for i in dataset_empty_columns))\n",
        "\n",
        "    print()\n",
        "    print(\"Missing Data:\")\n",
        "    print()\n",
        "    print(dataset_empty_row_freq)\n",
        "    print()\n",
        "\n",
        "    percentage_missing_data = (missing_cells / (data.shape[0] * data.shape[1])) * 100\n",
        "    print(f\"Total number of missing cells: {missing_cells}, and {round(percentage_missing_data,3)}% of the data is missing.\")\n",
        "\n",
        "else:\n",
        "    print(\"There are no missing values in the dataset.\")"
      ],
      "metadata": {
        "id": "CJtjNLwTNDeE",
        "outputId": "b8b263a3-f234-49f5-a596-b1f841e821cb",
        "colab": {
          "base_uri": "https://localhost:8080/",
          "height": 808
        }
      },
      "execution_count": 26,
      "outputs": [
        {
          "output_type": "stream",
          "name": "stdout",
          "text": [
            "The columns with missing values are: \"MORTDUE\", \"VALUE\", \"REASON\", \"JOB\", \"YOJ\", \"DEROG\", \"DELINQ\", \"CLAGE\", \"NINQ\", \"CLNO\", \"DEBTINC\"\n",
            "\n",
            "Missing Data:\n",
            "\n",
            "         incomplete_rows  percentage_incomplete\n",
            "MORTDUE              518               8.691275\n",
            "VALUE                112               1.879195\n",
            "REASON               252               4.228188\n",
            "JOB                  279               4.681208\n",
            "YOJ                  515               8.640940\n",
            "DEROG                708              11.879195\n",
            "DELINQ               580               9.731544\n",
            "CLAGE                308               5.167785\n",
            "NINQ                 510               8.557047\n",
            "CLNO                 222               3.724832\n",
            "DEBTINC             1267              21.258389\n",
            "\n",
            "Total number of missing cells: 5271, and 6.803% of the data is missing.\n"
          ]
        },
        {
          "output_type": "display_data",
          "data": {
            "text/plain": [
              "<Figure size 640x480 with 1 Axes>"
            ],
            "image/png": "[encoded data removed]"
          },
          "metadata": {}
        }
      ]
    },
    {
      "cell_type": "markdown",
      "source": [
        "we will impute the missing data on the following bases:\n",
        "1. For`REASON` and `JOB`, we can impute them with a new value `Unknown`.\n",
        "2."
      ],
      "metadata": {
        "id": "hNWF1U4tNVPR"
      }
    },
    {
      "cell_type": "code",
      "source": [],
      "metadata": {
        "id": "CTMRQD_RNPxh"
      },
      "execution_count": null,
      "outputs": []
    }
  ]
}